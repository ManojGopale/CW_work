{
 "cells": [
  {
   "cell_type": "markdown",
   "metadata": {},
   "source": [
    "# Part 2, Topic 1: CPA Attack on 32bit AES (HARDWARE)"
   ]
  },
  {
   "cell_type": "markdown",
   "metadata": {},
   "source": [
    "---\n",
    "NOTE: This lab references some (commercial) training material on [ChipWhisperer.io](https://www.ChipWhisperer.io). You can freely execute and use the lab per the open-source license (including using it in your own courses if you distribute similarly), but you must maintain notice about this source location. Consider joining our training course to enjoy the full experience.\n",
    "\n",
    "---"
   ]
  },
  {
   "cell_type": "markdown",
   "metadata": {},
   "source": [
    "Usual capture, just using MBEDTLS instead of TINYAES128"
   ]
  },
  {
   "cell_type": "code",
   "execution_count": 1,
   "metadata": {},
   "outputs": [],
   "source": [
    "SCOPETYPE = 'OPENADC'\n",
    "PLATFORM = 'CWLITEARM'\n",
    "CRYPTO_TARGET = \"MBEDTLS\"\n",
    "SS_VER = 'SS_VER_1_1'\n",
    "CHECK_CORR = False ##From CW_lite code\n"
   ]
  },
  {
   "cell_type": "code",
   "execution_count": 2,
   "metadata": {},
   "outputs": [
    {
     "name": "stderr",
     "output_type": "stream",
     "text": [
      "WARNING:ChipWhisperer NAEUSB:Your firmware is outdated - latest is 0.52. Suggested to update firmware, as you may experience errors\n",
      "See https://chipwhisperer.readthedocs.io/en/latest/api.html#firmware-update\n"
     ]
    },
    {
     "name": "stdout",
     "output_type": "stream",
     "text": [
      "INFO: Found ChipWhisperer😍\n"
     ]
    }
   ],
   "source": [
    "%run \"../../Setup_Scripts/Setup_Generic.ipynb\""
   ]
  },
  {
   "cell_type": "code",
   "execution_count": 3,
   "metadata": {},
   "outputs": [],
   "source": [
    "%%bash\n",
    "cd ../../../hardware/victims/firmware/\n",
    "mkdir -p simpleserial-aes-captureTrace_manoj_f303 && cp -r simpleserial-aes/* $_"
   ]
  },
  {
   "cell_type": "code",
   "execution_count": 4,
   "metadata": {},
   "outputs": [
    {
     "name": "stdout",
     "output_type": "stream",
     "text": [
      "Building for platform CWLITEARM with CRYPTO_TARGET=MBEDTLS\n",
      "SS_VER set to SS_VER_1_1\n",
      "Blank crypto options, building for AES128\n",
      "rm -f -- simpleserial-aes-CWLITEARM.hex\n",
      "rm -f -- simpleserial-aes-CWLITEARM.eep\n",
      "rm -f -- simpleserial-aes-CWLITEARM.cof\n",
      "rm -f -- simpleserial-aes-CWLITEARM.elf\n",
      "rm -f -- simpleserial-aes-CWLITEARM.map\n",
      "rm -f -- simpleserial-aes-CWLITEARM.sym\n",
      "rm -f -- simpleserial-aes-CWLITEARM.lss\n",
      "rm -f -- objdir-CWLITEARM/*.o\n",
      "rm -f -- objdir-CWLITEARM/*.lst\n",
      "rm -f -- simpleserial-aes.s simpleserial.s stm32f3_hal.s stm32f3_hal_lowlevel.s stm32f3_sysmem.s aes-independant.s aes.s\n",
      "rm -f -- simpleserial-aes.d simpleserial.d stm32f3_hal.d stm32f3_hal_lowlevel.d stm32f3_sysmem.d aes-independant.d aes.d\n",
      "rm -f -- simpleserial-aes.i simpleserial.i stm32f3_hal.i stm32f3_hal_lowlevel.i stm32f3_sysmem.i aes-independant.i aes.i\n",
      ".\n",
      "Welcome to another exciting ChipWhisperer target build!!\n",
      "arm-none-eabi-gcc (15:9-2019-q4-0ubuntu1) 9.2.1 20191025 (release) [ARM/arm-9-branch revision 277599]\n",
      "Copyright (C) 2019 Free Software Foundation, Inc.\n",
      "This is free software; see the source for copying conditions.  There is NO\n",
      "warranty; not even for MERCHANTABILITY or FITNESS FOR A PARTICULAR PURPOSE.\n",
      "\n",
      ".\n",
      "Compiling C: simpleserial-aes.c\n",
      "arm-none-eabi-gcc -c -mcpu=cortex-m4 -I. -DNO_EXTRA_OPTS -mthumb -mfloat-abi=soft -fmessage-length=0 -ffunction-sections -gdwarf-2 -DSS_VER=SS_VER_1_1 -DSTM32F303xC -DSTM32F3 -DSTM32 -DDEBUG -DHAL_TYPE=HAL_stm32f3 -DPLATFORM=CWLITEARM -DMBEDTLS -DMBEDTLS_SHA1_C -DF_CPU=7372800UL -DSS_VER_2_0=2 -DSS_VER_2_1=3 -DSS_VER_1_1=1 -DSS_VER_1_0=0 -Os -funsigned-char -funsigned-bitfields -fshort-enums -Wall -Wstrict-prototypes -Wa,-adhlns=objdir-CWLITEARM/simpleserial-aes.lst -I.././simpleserial/ -I.././hal -I.././hal/stm32f3 -I.././hal/stm32f3/CMSIS -I.././hal/stm32f3/CMSIS/core -I.././hal/stm32f3/CMSIS/device -I.././hal/stm32f4/Legacy -I.././crypto/ -I.././crypto/mbedtls//include -std=gnu99  -MMD -MP -MF .dep/simpleserial-aes.o.d simpleserial-aes.c -o objdir-CWLITEARM/simpleserial-aes.o\n",
      ".\n",
      "Compiling C: .././simpleserial/simpleserial.c\n",
      "arm-none-eabi-gcc -c -mcpu=cortex-m4 -I. -DNO_EXTRA_OPTS -mthumb -mfloat-abi=soft -fmessage-length=0 -ffunction-sections -gdwarf-2 -DSS_VER=SS_VER_1_1 -DSTM32F303xC -DSTM32F3 -DSTM32 -DDEBUG -DHAL_TYPE=HAL_stm32f3 -DPLATFORM=CWLITEARM -DMBEDTLS -DMBEDTLS_SHA1_C -DF_CPU=7372800UL -DSS_VER_2_0=2 -DSS_VER_2_1=3 -DSS_VER_1_1=1 -DSS_VER_1_0=0 -Os -funsigned-char -funsigned-bitfields -fshort-enums -Wall -Wstrict-prototypes -Wa,-adhlns=objdir-CWLITEARM/simpleserial.lst -I.././simpleserial/ -I.././hal -I.././hal/stm32f3 -I.././hal/stm32f3/CMSIS -I.././hal/stm32f3/CMSIS/core -I.././hal/stm32f3/CMSIS/device -I.././hal/stm32f4/Legacy -I.././crypto/ -I.././crypto/mbedtls//include -std=gnu99  -MMD -MP -MF .dep/simpleserial.o.d .././simpleserial/simpleserial.c -o objdir-CWLITEARM/simpleserial.o\n",
      ".\n",
      "Compiling C: .././hal/stm32f3/stm32f3_hal.c\n",
      "arm-none-eabi-gcc -c -mcpu=cortex-m4 -I. -DNO_EXTRA_OPTS -mthumb -mfloat-abi=soft -fmessage-length=0 -ffunction-sections -gdwarf-2 -DSS_VER=SS_VER_1_1 -DSTM32F303xC -DSTM32F3 -DSTM32 -DDEBUG -DHAL_TYPE=HAL_stm32f3 -DPLATFORM=CWLITEARM -DMBEDTLS -DMBEDTLS_SHA1_C -DF_CPU=7372800UL -DSS_VER_2_0=2 -DSS_VER_2_1=3 -DSS_VER_1_1=1 -DSS_VER_1_0=0 -Os -funsigned-char -funsigned-bitfields -fshort-enums -Wall -Wstrict-prototypes -Wa,-adhlns=objdir-CWLITEARM/stm32f3_hal.lst -I.././simpleserial/ -I.././hal -I.././hal/stm32f3 -I.././hal/stm32f3/CMSIS -I.././hal/stm32f3/CMSIS/core -I.././hal/stm32f3/CMSIS/device -I.././hal/stm32f4/Legacy -I.././crypto/ -I.././crypto/mbedtls//include -std=gnu99  -MMD -MP -MF .dep/stm32f3_hal.o.d .././hal/stm32f3/stm32f3_hal.c -o objdir-CWLITEARM/stm32f3_hal.o\n",
      ".\n",
      "Compiling C: .././hal/stm32f3/stm32f3_hal_lowlevel.c\n",
      "arm-none-eabi-gcc -c -mcpu=cortex-m4 -I. -DNO_EXTRA_OPTS -mthumb -mfloat-abi=soft -fmessage-length=0 -ffunction-sections -gdwarf-2 -DSS_VER=SS_VER_1_1 -DSTM32F303xC -DSTM32F3 -DSTM32 -DDEBUG -DHAL_TYPE=HAL_stm32f3 -DPLATFORM=CWLITEARM -DMBEDTLS -DMBEDTLS_SHA1_C -DF_CPU=7372800UL -DSS_VER_2_0=2 -DSS_VER_2_1=3 -DSS_VER_1_1=1 -DSS_VER_1_0=0 -Os -funsigned-char -funsigned-bitfields -fshort-enums -Wall -Wstrict-prototypes -Wa,-adhlns=objdir-CWLITEARM/stm32f3_hal_lowlevel.lst -I.././simpleserial/ -I.././hal -I.././hal/stm32f3 -I.././hal/stm32f3/CMSIS -I.././hal/stm32f3/CMSIS/core -I.././hal/stm32f3/CMSIS/device -I.././hal/stm32f4/Legacy -I.././crypto/ -I.././crypto/mbedtls//include -std=gnu99  -MMD -MP -MF .dep/stm32f3_hal_lowlevel.o.d .././hal/stm32f3/stm32f3_hal_lowlevel.c -o objdir-CWLITEARM/stm32f3_hal_lowlevel.o\n",
      ".\n",
      "Compiling C: .././hal/stm32f3/stm32f3_sysmem.c\n",
      "arm-none-eabi-gcc -c -mcpu=cortex-m4 -I. -DNO_EXTRA_OPTS -mthumb -mfloat-abi=soft -fmessage-length=0 -ffunction-sections -gdwarf-2 -DSS_VER=SS_VER_1_1 -DSTM32F303xC -DSTM32F3 -DSTM32 -DDEBUG -DHAL_TYPE=HAL_stm32f3 -DPLATFORM=CWLITEARM -DMBEDTLS -DMBEDTLS_SHA1_C -DF_CPU=7372800UL -DSS_VER_2_0=2 -DSS_VER_2_1=3 -DSS_VER_1_1=1 -DSS_VER_1_0=0 -Os -funsigned-char -funsigned-bitfields -fshort-enums -Wall -Wstrict-prototypes -Wa,-adhlns=objdir-CWLITEARM/stm32f3_sysmem.lst -I.././simpleserial/ -I.././hal -I.././hal/stm32f3 -I.././hal/stm32f3/CMSIS -I.././hal/stm32f3/CMSIS/core -I.././hal/stm32f3/CMSIS/device -I.././hal/stm32f4/Legacy -I.././crypto/ -I.././crypto/mbedtls//include -std=gnu99  -MMD -MP -MF .dep/stm32f3_sysmem.o.d .././hal/stm32f3/stm32f3_sysmem.c -o objdir-CWLITEARM/stm32f3_sysmem.o\n",
      ".\n",
      "Compiling C: .././crypto/aes-independant.c\n",
      "arm-none-eabi-gcc -c -mcpu=cortex-m4 -I. -DNO_EXTRA_OPTS -mthumb -mfloat-abi=soft -fmessage-length=0 -ffunction-sections -gdwarf-2 -DSS_VER=SS_VER_1_1 -DSTM32F303xC -DSTM32F3 -DSTM32 -DDEBUG -DHAL_TYPE=HAL_stm32f3 -DPLATFORM=CWLITEARM -DMBEDTLS -DMBEDTLS_SHA1_C -DF_CPU=7372800UL -DSS_VER_2_0=2 -DSS_VER_2_1=3 -DSS_VER_1_1=1 -DSS_VER_1_0=0 -Os -funsigned-char -funsigned-bitfields -fshort-enums -Wall -Wstrict-prototypes -Wa,-adhlns=objdir-CWLITEARM/aes-independant.lst -I.././simpleserial/ -I.././hal -I.././hal/stm32f3 -I.././hal/stm32f3/CMSIS -I.././hal/stm32f3/CMSIS/core -I.././hal/stm32f3/CMSIS/device -I.././hal/stm32f4/Legacy -I.././crypto/ -I.././crypto/mbedtls//include -std=gnu99  -MMD -MP -MF .dep/aes-independant.o.d .././crypto/aes-independant.c -o objdir-CWLITEARM/aes-independant.o\n",
      ".\n",
      "Compiling C: .././crypto/mbedtls//library/aes.c\n",
      "arm-none-eabi-gcc -c -mcpu=cortex-m4 -I. -DNO_EXTRA_OPTS -mthumb -mfloat-abi=soft -fmessage-length=0 -ffunction-sections -gdwarf-2 -DSS_VER=SS_VER_1_1 -DSTM32F303xC -DSTM32F3 -DSTM32 -DDEBUG -DHAL_TYPE=HAL_stm32f3 -DPLATFORM=CWLITEARM -DMBEDTLS -DMBEDTLS_SHA1_C -DF_CPU=7372800UL -DSS_VER_2_0=2 -DSS_VER_2_1=3 -DSS_VER_1_1=1 -DSS_VER_1_0=0 -Os -funsigned-char -funsigned-bitfields -fshort-enums -Wall -Wstrict-prototypes -Wa,-adhlns=objdir-CWLITEARM/aes.lst -I.././simpleserial/ -I.././hal -I.././hal/stm32f3 -I.././hal/stm32f3/CMSIS -I.././hal/stm32f3/CMSIS/core -I.././hal/stm32f3/CMSIS/device -I.././hal/stm32f4/Legacy -I.././crypto/ -I.././crypto/mbedtls//include -std=gnu99  -MMD -MP -MF .dep/aes.o.d .././crypto/mbedtls//library/aes.c -o objdir-CWLITEARM/aes.o\n",
      ".\n",
      "Assembling: .././hal/stm32f3/stm32f3_startup.S\n",
      "arm-none-eabi-gcc -c -mcpu=cortex-m4 -I. -x assembler-with-cpp -mthumb -mfloat-abi=soft -fmessage-length=0 -ffunction-sections -DF_CPU=7372800 -Wa,-gstabs,-adhlns=objdir-CWLITEARM/stm32f3_startup.lst -I.././simpleserial/ -I.././hal -I.././hal/stm32f3 -I.././hal/stm32f3/CMSIS -I.././hal/stm32f3/CMSIS/core -I.././hal/stm32f3/CMSIS/device -I.././hal/stm32f4/Legacy -I.././crypto/ -I.././crypto/mbedtls//include .././hal/stm32f3/stm32f3_startup.S -o objdir-CWLITEARM/stm32f3_startup.o\n",
      ".\n",
      "Linking: simpleserial-aes-CWLITEARM.elf\n",
      "arm-none-eabi-gcc -mcpu=cortex-m4 -I. -DNO_EXTRA_OPTS -mthumb -mfloat-abi=soft -fmessage-length=0 -ffunction-sections -gdwarf-2 -DSS_VER=SS_VER_1_1 -DSTM32F303xC -DSTM32F3 -DSTM32 -DDEBUG -DHAL_TYPE=HAL_stm32f3 -DPLATFORM=CWLITEARM -DMBEDTLS -DMBEDTLS_SHA1_C -DF_CPU=7372800UL -DSS_VER_2_0=2 -DSS_VER_2_1=3 -DSS_VER_1_1=1 -DSS_VER_1_0=0 -Os -funsigned-char -funsigned-bitfields -fshort-enums -Wall -Wstrict-prototypes -Wa,-adhlns=objdir-CWLITEARM/simpleserial-aes.o -I.././simpleserial/ -I.././hal -I.././hal/stm32f3 -I.././hal/stm32f3/CMSIS -I.././hal/stm32f3/CMSIS/core -I.././hal/stm32f3/CMSIS/device -I.././hal/stm32f4/Legacy -I.././crypto/ -I.././crypto/mbedtls//include -std=gnu99  -MMD -MP -MF .dep/simpleserial-aes-CWLITEARM.elf.d objdir-CWLITEARM/simpleserial-aes.o objdir-CWLITEARM/simpleserial.o objdir-CWLITEARM/stm32f3_hal.o objdir-CWLITEARM/stm32f3_hal_lowlevel.o objdir-CWLITEARM/stm32f3_sysmem.o objdir-CWLITEARM/aes-independant.o objdir-CWLITEARM/aes.o objdir-CWLITEARM/stm32f3_startup.o --output simpleserial-aes-CWLITEARM.elf --specs=nano.specs --specs=nosys.specs -T .././hal/stm32f3/LinkerScript.ld -Wl,--gc-sections -lm -Wl,-Map=simpleserial-aes-CWLITEARM.map,--cref   -lm  \n",
      ".\n",
      "Creating load file for Flash: simpleserial-aes-CWLITEARM.hex\n",
      "arm-none-eabi-objcopy -O ihex -R .eeprom -R .fuse -R .lock -R .signature simpleserial-aes-CWLITEARM.elf simpleserial-aes-CWLITEARM.hex\n",
      ".\n",
      "Creating load file for EEPROM: simpleserial-aes-CWLITEARM.eep\n",
      "arm-none-eabi-objcopy -j .eeprom --set-section-flags=.eeprom=\"alloc,load\" \\\n",
      "--change-section-lma .eeprom=0 --no-change-warnings -O ihex simpleserial-aes-CWLITEARM.elf simpleserial-aes-CWLITEARM.eep || exit 0\n",
      ".\n",
      "Creating Extended Listing: simpleserial-aes-CWLITEARM.lss\n",
      "arm-none-eabi-objdump -h -S -z simpleserial-aes-CWLITEARM.elf > simpleserial-aes-CWLITEARM.lss\n",
      ".\n",
      "Creating Symbol Table: simpleserial-aes-CWLITEARM.sym\n",
      "arm-none-eabi-nm -n simpleserial-aes-CWLITEARM.elf > simpleserial-aes-CWLITEARM.sym\n",
      "Size after:\n",
      "   text\t   data\t    bss\t    dec\t    hex\tfilename\n",
      "  16372\t     12\t   1716\t  18100\t   46b4\tsimpleserial-aes-CWLITEARM.elf\n",
      "+--------------------------------------------------------\n",
      "+ Default target does full rebuild each time.\n",
      "+ Specify buildtarget == allquick == to avoid full rebuild\n",
      "+--------------------------------------------------------\n",
      "+--------------------------------------------------------\n",
      "+ Built for platform CW-Lite Arm \\(STM32F3\\) with:\n",
      "+ CRYPTO_TARGET = MBEDTLS\n",
      "+ CRYPTO_OPTIONS = AES128C\n",
      "+--------------------------------------------------------\n"
     ]
    }
   ],
   "source": [
    "%%bash -s \"$PLATFORM\" \"$CRYPTO_TARGET\" \"$SS_VER\"\n",
    "cd ../../../hardware/victims/firmware/simpleserial-aes-captureTrace_manoj_f303\n",
    "make PLATFORM=$1 CRYPTO_TARGET=$2 SS_VER=$3"
   ]
  },
  {
   "cell_type": "code",
   "execution_count": 5,
   "metadata": {},
   "outputs": [
    {
     "name": "stdout",
     "output_type": "stream",
     "text": [
      "Detected unknown STM32F ID: 0x446\n",
      "Extended erase (0x44), this can take ten seconds or more\n",
      "Attempting to program 16383 bytes at 0x8000000\n",
      "STM32F Programming flash...\n",
      "STM32F Reading flash...\n",
      "Verified flash OK, 16383 bytes\n"
     ]
    }
   ],
   "source": [
    "fw_path = '../../../hardware/victims/firmware/simpleserial-aes-captureTrace_manoj_f303/simpleserial-aes-{}.hex'.format(PLATFORM)\n",
    "cw.program_target(scope, prog, fw_path)"
   ]
  },
  {
   "cell_type": "code",
   "execution_count": 65,
   "metadata": {},
   "outputs": [
    {
     "name": "stdout",
     "output_type": "stream",
     "text": [
      "0\n",
      "2\n",
      "clkgen_x4\n",
      "29538459\n",
      "29538459.0\n",
      "True\n",
      "0\n",
      "extclk\n",
      "system\n",
      "10000000\n",
      "2\n",
      "26\n",
      "7384615.384615385\n"
     ]
    }
   ],
   "source": [
    "print(scope.adc.presamples)\n",
    "print(scope.adc.timeout)\n",
    "print(scope.clock.adc_src)\n",
    "print(scope.clock.adc_freq)\n",
    "print(scope.clock.adc_rate)\n",
    "print(scope.clock.adc_locked)\n",
    "print(scope.clock.freq_ctr)\n",
    "print(scope.clock.freq_ctr_src)\n",
    "print(scope.clock.clkgen_src)\n",
    "print(scope.clock.extclk_freq)\n",
    "print(scope.clock.clkgen_mul)\n",
    "print(scope.clock.clkgen_div)\n",
    "print(scope.clock.clkgen_freq)"
   ]
  },
  {
   "cell_type": "code",
   "execution_count": 13,
   "metadata": {},
   "outputs": [
    {
     "name": "stdout",
     "output_type": "stream",
     "text": [
      "0\n",
      "2\n",
      "1\n",
      "clkgen_x4\n",
      "29538459\n",
      "29538459.0\n",
      "True\n",
      "0\n",
      "extclk\n",
      "system\n",
      "10000000\n",
      "2\n",
      "26\n",
      "7384615.384615385\n"
     ]
    }
   ],
   "source": [
    "print(scope.adc.presamples)\n",
    "print(scope.adc.timeout)\n",
    "#scope.adc.decimate = 1\n",
    "print(scope.adc.decimate)\n",
    "print(scope.clock.adc_src)\n",
    "print(scope.clock.adc_freq)\n",
    "print(scope.clock.adc_rate)\n",
    "print(scope.clock.adc_locked)\n",
    "print(scope.clock.freq_ctr)\n",
    "print(scope.clock.freq_ctr_src)\n",
    "print(scope.clock.clkgen_src)\n",
    "print(scope.clock.extclk_freq)\n",
    "print(scope.clock.clkgen_mul)\n",
    "print(scope.clock.clkgen_div)\n",
    "print(scope.clock.clkgen_freq)"
   ]
  },
  {
   "cell_type": "code",
   "execution_count": 62,
   "metadata": {},
   "outputs": [],
   "source": [
    "##Without downsampling, trace_key_6000\n",
    "scope.adc.samples = 6000 ##Number of samples to take\n",
    "scope.adc.presamples = 0"
   ]
  },
  {
   "cell_type": "code",
   "execution_count": 20,
   "metadata": {},
   "outputs": [],
   "source": [
    "##For 1500 CW downsamples, trace_key_1500\n",
    "scope.adc.decimate = 4\n",
    "scope.adc.samples = 1500 ##Number of samples to take\n",
    "scope.adc.presamples = 0"
   ]
  },
  {
   "cell_type": "code",
   "execution_count": 22,
   "metadata": {},
   "outputs": [
    {
     "name": "stderr",
     "output_type": "stream",
     "text": [
      "Capturing traces key=0: 100%|████████████████████████████████████████████████████████████████████████████████████████████████████████████| 8500/8500 [08:48<00:00, 16.09it/s]\n"
     ]
    },
    {
     "name": "stdout",
     "output_type": "stream",
     "text": [
      "firstKey= 0\n",
      "project saved at /mnt/hgfs/trace_key_1500/key_0.cwp\n"
     ]
    },
    {
     "name": "stderr",
     "output_type": "stream",
     "text": [
      "Capturing traces key=1: 100%|████████████████████████████████████████████████████████████████████████████████████████████████████████████| 8500/8500 [08:49<00:00, 16.06it/s]\n"
     ]
    },
    {
     "name": "stdout",
     "output_type": "stream",
     "text": [
      "firstKey= 1\n",
      "project saved at /mnt/hgfs/trace_key_1500/key_1.cwp\n"
     ]
    },
    {
     "name": "stderr",
     "output_type": "stream",
     "text": [
      "Capturing traces key=2: 100%|████████████████████████████████████████████████████████████████████████████████████████████████████████████| 8500/8500 [08:49<00:00, 16.07it/s]\n"
     ]
    },
    {
     "name": "stdout",
     "output_type": "stream",
     "text": [
      "firstKey= 2\n",
      "project saved at /mnt/hgfs/trace_key_1500/key_2.cwp\n"
     ]
    },
    {
     "name": "stderr",
     "output_type": "stream",
     "text": [
      "Capturing traces key=3: 100%|████████████████████████████████████████████████████████████████████████████████████████████████████████████| 8500/8500 [08:49<00:00, 16.06it/s]\n"
     ]
    },
    {
     "name": "stdout",
     "output_type": "stream",
     "text": [
      "firstKey= 3\n",
      "project saved at /mnt/hgfs/trace_key_1500/key_3.cwp\n"
     ]
    },
    {
     "name": "stderr",
     "output_type": "stream",
     "text": [
      "Capturing traces key=4: 100%|████████████████████████████████████████████████████████████████████████████████████████████████████████████| 8500/8500 [08:50<00:00, 16.03it/s]\n"
     ]
    },
    {
     "name": "stdout",
     "output_type": "stream",
     "text": [
      "firstKey= 4\n",
      "project saved at /mnt/hgfs/trace_key_1500/key_4.cwp\n"
     ]
    },
    {
     "name": "stderr",
     "output_type": "stream",
     "text": [
      "Capturing traces key=5: 100%|████████████████████████████████████████████████████████████████████████████████████████████████████████████| 8500/8500 [08:50<00:00, 16.02it/s]\n"
     ]
    },
    {
     "name": "stdout",
     "output_type": "stream",
     "text": [
      "firstKey= 5\n",
      "project saved at /mnt/hgfs/trace_key_1500/key_5.cwp\n"
     ]
    },
    {
     "name": "stderr",
     "output_type": "stream",
     "text": [
      "Capturing traces key=6: 100%|████████████████████████████████████████████████████████████████████████████████████████████████████████████| 8500/8500 [08:50<00:00, 16.03it/s]\n"
     ]
    },
    {
     "name": "stdout",
     "output_type": "stream",
     "text": [
      "firstKey= 6\n",
      "project saved at /mnt/hgfs/trace_key_1500/key_6.cwp\n"
     ]
    },
    {
     "name": "stderr",
     "output_type": "stream",
     "text": [
      "Capturing traces key=7: 100%|████████████████████████████████████████████████████████████████████████████████████████████████████████████| 8500/8500 [08:50<00:00, 16.02it/s]\n"
     ]
    },
    {
     "name": "stdout",
     "output_type": "stream",
     "text": [
      "firstKey= 7\n",
      "project saved at /mnt/hgfs/trace_key_1500/key_7.cwp\n"
     ]
    },
    {
     "name": "stderr",
     "output_type": "stream",
     "text": [
      "Capturing traces key=8: 100%|████████████████████████████████████████████████████████████████████████████████████████████████████████████| 8500/8500 [08:50<00:00, 16.03it/s]\n"
     ]
    },
    {
     "name": "stdout",
     "output_type": "stream",
     "text": [
      "firstKey= 8\n",
      "project saved at /mnt/hgfs/trace_key_1500/key_8.cwp\n"
     ]
    },
    {
     "name": "stderr",
     "output_type": "stream",
     "text": [
      "Capturing traces key=9: 100%|████████████████████████████████████████████████████████████████████████████████████████████████████████████| 8500/8500 [08:50<00:00, 16.01it/s]\n"
     ]
    },
    {
     "name": "stdout",
     "output_type": "stream",
     "text": [
      "firstKey= 9\n",
      "project saved at /mnt/hgfs/trace_key_1500/key_9.cwp\n"
     ]
    },
    {
     "name": "stderr",
     "output_type": "stream",
     "text": [
      "Capturing traces key=10: 100%|███████████████████████████████████████████████████████████████████████████████████████████████████████████| 8500/8500 [08:51<00:00, 16.01it/s]\n"
     ]
    },
    {
     "name": "stdout",
     "output_type": "stream",
     "text": [
      "firstKey= 10\n",
      "project saved at /mnt/hgfs/trace_key_1500/key_10.cwp\n"
     ]
    },
    {
     "name": "stderr",
     "output_type": "stream",
     "text": [
      "Capturing traces key=11: 100%|███████████████████████████████████████████████████████████████████████████████████████████████████████████| 8500/8500 [08:50<00:00, 16.03it/s]\n"
     ]
    },
    {
     "name": "stdout",
     "output_type": "stream",
     "text": [
      "firstKey= 11\n",
      "project saved at /mnt/hgfs/trace_key_1500/key_11.cwp\n"
     ]
    },
    {
     "name": "stderr",
     "output_type": "stream",
     "text": [
      "Capturing traces key=12: 100%|███████████████████████████████████████████████████████████████████████████████████████████████████████████| 8500/8500 [08:50<00:00, 16.03it/s]\n"
     ]
    },
    {
     "name": "stdout",
     "output_type": "stream",
     "text": [
      "firstKey= 12\n",
      "project saved at /mnt/hgfs/trace_key_1500/key_12.cwp\n"
     ]
    },
    {
     "name": "stderr",
     "output_type": "stream",
     "text": [
      "Capturing traces key=13: 100%|███████████████████████████████████████████████████████████████████████████████████████████████████████████| 8500/8500 [08:50<00:00, 16.03it/s]\n"
     ]
    },
    {
     "name": "stdout",
     "output_type": "stream",
     "text": [
      "firstKey= 13\n",
      "project saved at /mnt/hgfs/trace_key_1500/key_13.cwp\n"
     ]
    },
    {
     "name": "stderr",
     "output_type": "stream",
     "text": [
      "Capturing traces key=14: 100%|███████████████████████████████████████████████████████████████████████████████████████████████████████████| 8500/8500 [08:50<00:00, 16.01it/s]\n"
     ]
    },
    {
     "name": "stdout",
     "output_type": "stream",
     "text": [
      "firstKey= 14\n",
      "project saved at /mnt/hgfs/trace_key_1500/key_14.cwp\n"
     ]
    },
    {
     "name": "stderr",
     "output_type": "stream",
     "text": [
      "Capturing traces key=15: 100%|███████████████████████████████████████████████████████████████████████████████████████████████████████████| 8500/8500 [08:50<00:00, 16.03it/s]\n"
     ]
    },
    {
     "name": "stdout",
     "output_type": "stream",
     "text": [
      "firstKey= 15\n",
      "project saved at /mnt/hgfs/trace_key_1500/key_15.cwp\n"
     ]
    },
    {
     "name": "stderr",
     "output_type": "stream",
     "text": [
      "Capturing traces key=16: 100%|███████████████████████████████████████████████████████████████████████████████████████████████████████████| 8500/8500 [08:50<00:00, 16.03it/s]\n"
     ]
    },
    {
     "name": "stdout",
     "output_type": "stream",
     "text": [
      "firstKey= 16\n",
      "project saved at /mnt/hgfs/trace_key_1500/key_16.cwp\n"
     ]
    },
    {
     "name": "stderr",
     "output_type": "stream",
     "text": [
      "Capturing traces key=17: 100%|███████████████████████████████████████████████████████████████████████████████████████████████████████████| 8500/8500 [08:50<00:00, 16.03it/s]\n"
     ]
    },
    {
     "name": "stdout",
     "output_type": "stream",
     "text": [
      "firstKey= 17\n",
      "project saved at /mnt/hgfs/trace_key_1500/key_17.cwp\n"
     ]
    },
    {
     "name": "stderr",
     "output_type": "stream",
     "text": [
      "Capturing traces key=18: 100%|███████████████████████████████████████████████████████████████████████████████████████████████████████████| 8500/8500 [08:50<00:00, 16.02it/s]\n"
     ]
    },
    {
     "name": "stdout",
     "output_type": "stream",
     "text": [
      "firstKey= 18\n",
      "project saved at /mnt/hgfs/trace_key_1500/key_18.cwp\n"
     ]
    },
    {
     "name": "stderr",
     "output_type": "stream",
     "text": [
      "Capturing traces key=19: 100%|███████████████████████████████████████████████████████████████████████████████████████████████████████████| 8500/8500 [08:50<00:00, 16.03it/s]\n"
     ]
    },
    {
     "name": "stdout",
     "output_type": "stream",
     "text": [
      "firstKey= 19\n",
      "project saved at /mnt/hgfs/trace_key_1500/key_19.cwp\n"
     ]
    },
    {
     "name": "stderr",
     "output_type": "stream",
     "text": [
      "Capturing traces key=20: 100%|███████████████████████████████████████████████████████████████████████████████████████████████████████████| 8500/8500 [08:50<00:00, 16.01it/s]\n"
     ]
    },
    {
     "name": "stdout",
     "output_type": "stream",
     "text": [
      "firstKey= 20\n",
      "project saved at /mnt/hgfs/trace_key_1500/key_20.cwp\n"
     ]
    },
    {
     "name": "stderr",
     "output_type": "stream",
     "text": [
      "Capturing traces key=21: 100%|███████████████████████████████████████████████████████████████████████████████████████████████████████████| 8500/8500 [08:50<00:00, 16.02it/s]\n"
     ]
    },
    {
     "name": "stdout",
     "output_type": "stream",
     "text": [
      "firstKey= 21\n",
      "project saved at /mnt/hgfs/trace_key_1500/key_21.cwp\n"
     ]
    },
    {
     "name": "stderr",
     "output_type": "stream",
     "text": [
      "Capturing traces key=22: 100%|███████████████████████████████████████████████████████████████████████████████████████████████████████████| 8500/8500 [08:50<00:00, 16.02it/s]\n"
     ]
    },
    {
     "name": "stdout",
     "output_type": "stream",
     "text": [
      "firstKey= 22\n",
      "project saved at /mnt/hgfs/trace_key_1500/key_22.cwp\n"
     ]
    },
    {
     "name": "stderr",
     "output_type": "stream",
     "text": [
      "Capturing traces key=23: 100%|███████████████████████████████████████████████████████████████████████████████████████████████████████████| 8500/8500 [08:50<00:00, 16.01it/s]\n"
     ]
    },
    {
     "name": "stdout",
     "output_type": "stream",
     "text": [
      "firstKey= 23\n",
      "project saved at /mnt/hgfs/trace_key_1500/key_23.cwp\n"
     ]
    },
    {
     "name": "stderr",
     "output_type": "stream",
     "text": [
      "Capturing traces key=24: 100%|███████████████████████████████████████████████████████████████████████████████████████████████████████████| 8500/8500 [08:50<00:00, 16.03it/s]\n"
     ]
    },
    {
     "name": "stdout",
     "output_type": "stream",
     "text": [
      "firstKey= 24\n",
      "project saved at /mnt/hgfs/trace_key_1500/key_24.cwp\n"
     ]
    },
    {
     "name": "stderr",
     "output_type": "stream",
     "text": [
      "Capturing traces key=25: 100%|███████████████████████████████████████████████████████████████████████████████████████████████████████████| 8500/8500 [08:50<00:00, 16.03it/s]\n"
     ]
    },
    {
     "name": "stdout",
     "output_type": "stream",
     "text": [
      "firstKey= 25\n",
      "project saved at /mnt/hgfs/trace_key_1500/key_25.cwp\n"
     ]
    },
    {
     "name": "stderr",
     "output_type": "stream",
     "text": [
      "Capturing traces key=26: 100%|███████████████████████████████████████████████████████████████████████████████████████████████████████████| 8500/8500 [08:51<00:00, 16.01it/s]\n"
     ]
    },
    {
     "name": "stdout",
     "output_type": "stream",
     "text": [
      "firstKey= 26\n",
      "project saved at /mnt/hgfs/trace_key_1500/key_26.cwp\n"
     ]
    },
    {
     "name": "stderr",
     "output_type": "stream",
     "text": [
      "Capturing traces key=27: 100%|███████████████████████████████████████████████████████████████████████████████████████████████████████████| 8500/8500 [08:50<00:00, 16.02it/s]\n"
     ]
    },
    {
     "name": "stdout",
     "output_type": "stream",
     "text": [
      "firstKey= 27\n",
      "project saved at /mnt/hgfs/trace_key_1500/key_27.cwp\n"
     ]
    },
    {
     "name": "stderr",
     "output_type": "stream",
     "text": [
      "Capturing traces key=28: 100%|███████████████████████████████████████████████████████████████████████████████████████████████████████████| 8500/8500 [08:50<00:00, 16.03it/s]\n"
     ]
    },
    {
     "name": "stdout",
     "output_type": "stream",
     "text": [
      "firstKey= 28\n",
      "project saved at /mnt/hgfs/trace_key_1500/key_28.cwp\n"
     ]
    },
    {
     "name": "stderr",
     "output_type": "stream",
     "text": [
      "Capturing traces key=29: 100%|███████████████████████████████████████████████████████████████████████████████████████████████████████████| 8500/8500 [08:51<00:00, 16.00it/s]\n"
     ]
    },
    {
     "name": "stdout",
     "output_type": "stream",
     "text": [
      "firstKey= 29\n",
      "project saved at /mnt/hgfs/trace_key_1500/key_29.cwp\n"
     ]
    },
    {
     "name": "stderr",
     "output_type": "stream",
     "text": [
      "Capturing traces key=30: 100%|███████████████████████████████████████████████████████████████████████████████████████████████████████████| 8500/8500 [08:50<00:00, 16.02it/s]\n"
     ]
    },
    {
     "name": "stdout",
     "output_type": "stream",
     "text": [
      "firstKey= 30\n",
      "project saved at /mnt/hgfs/trace_key_1500/key_30.cwp\n"
     ]
    },
    {
     "name": "stderr",
     "output_type": "stream",
     "text": [
      "Capturing traces key=31: 100%|███████████████████████████████████████████████████████████████████████████████████████████████████████████| 8500/8500 [08:49<00:00, 16.04it/s]\n"
     ]
    },
    {
     "name": "stdout",
     "output_type": "stream",
     "text": [
      "firstKey= 31\n",
      "project saved at /mnt/hgfs/trace_key_1500/key_31.cwp\n"
     ]
    },
    {
     "name": "stderr",
     "output_type": "stream",
     "text": [
      "Capturing traces key=32: 100%|███████████████████████████████████████████████████████████████████████████████████████████████████████████| 8500/8500 [08:50<00:00, 16.02it/s]\n"
     ]
    },
    {
     "name": "stdout",
     "output_type": "stream",
     "text": [
      "firstKey= 32\n",
      "project saved at /mnt/hgfs/trace_key_1500/key_32.cwp\n"
     ]
    },
    {
     "name": "stderr",
     "output_type": "stream",
     "text": [
      "Capturing traces key=33: 100%|███████████████████████████████████████████████████████████████████████████████████████████████████████████| 8500/8500 [08:50<00:00, 16.03it/s]\n"
     ]
    },
    {
     "name": "stdout",
     "output_type": "stream",
     "text": [
      "firstKey= 33\n",
      "project saved at /mnt/hgfs/trace_key_1500/key_33.cwp\n"
     ]
    },
    {
     "name": "stderr",
     "output_type": "stream",
     "text": [
      "Capturing traces key=34: 100%|███████████████████████████████████████████████████████████████████████████████████████████████████████████| 8500/8500 [08:50<00:00, 16.02it/s]\n"
     ]
    },
    {
     "name": "stdout",
     "output_type": "stream",
     "text": [
      "firstKey= 34\n",
      "project saved at /mnt/hgfs/trace_key_1500/key_34.cwp\n"
     ]
    },
    {
     "name": "stderr",
     "output_type": "stream",
     "text": [
      "Capturing traces key=35: 100%|███████████████████████████████████████████████████████████████████████████████████████████████████████████| 8500/8500 [08:50<00:00, 16.02it/s]\n"
     ]
    },
    {
     "name": "stdout",
     "output_type": "stream",
     "text": [
      "firstKey= 35\n",
      "project saved at /mnt/hgfs/trace_key_1500/key_35.cwp\n"
     ]
    },
    {
     "name": "stderr",
     "output_type": "stream",
     "text": [
      "Capturing traces key=36: 100%|███████████████████████████████████████████████████████████████████████████████████████████████████████████| 8500/8500 [08:50<00:00, 16.03it/s]\n"
     ]
    },
    {
     "name": "stdout",
     "output_type": "stream",
     "text": [
      "firstKey= 36\n",
      "project saved at /mnt/hgfs/trace_key_1500/key_36.cwp\n"
     ]
    },
    {
     "name": "stderr",
     "output_type": "stream",
     "text": [
      "Capturing traces key=37: 100%|███████████████████████████████████████████████████████████████████████████████████████████████████████████| 8500/8500 [08:50<00:00, 16.03it/s]\n"
     ]
    },
    {
     "name": "stdout",
     "output_type": "stream",
     "text": [
      "firstKey= 37\n",
      "project saved at /mnt/hgfs/trace_key_1500/key_37.cwp\n"
     ]
    },
    {
     "name": "stderr",
     "output_type": "stream",
     "text": [
      "Capturing traces key=38: 100%|███████████████████████████████████████████████████████████████████████████████████████████████████████████| 8500/8500 [08:50<00:00, 16.02it/s]\n"
     ]
    },
    {
     "name": "stdout",
     "output_type": "stream",
     "text": [
      "firstKey= 38\n",
      "project saved at /mnt/hgfs/trace_key_1500/key_38.cwp\n"
     ]
    },
    {
     "name": "stderr",
     "output_type": "stream",
     "text": [
      "Capturing traces key=39: 100%|███████████████████████████████████████████████████████████████████████████████████████████████████████████| 8500/8500 [08:50<00:00, 16.01it/s]\n"
     ]
    },
    {
     "name": "stdout",
     "output_type": "stream",
     "text": [
      "firstKey= 39\n",
      "project saved at /mnt/hgfs/trace_key_1500/key_39.cwp\n"
     ]
    },
    {
     "name": "stderr",
     "output_type": "stream",
     "text": [
      "Capturing traces key=40: 100%|███████████████████████████████████████████████████████████████████████████████████████████████████████████| 8500/8500 [08:50<00:00, 16.03it/s]\n"
     ]
    },
    {
     "name": "stdout",
     "output_type": "stream",
     "text": [
      "firstKey= 40\n",
      "project saved at /mnt/hgfs/trace_key_1500/key_40.cwp\n"
     ]
    },
    {
     "name": "stderr",
     "output_type": "stream",
     "text": [
      "Capturing traces key=41: 100%|███████████████████████████████████████████████████████████████████████████████████████████████████████████| 8500/8500 [08:50<00:00, 16.03it/s]\n"
     ]
    },
    {
     "name": "stdout",
     "output_type": "stream",
     "text": [
      "firstKey= 41\n",
      "project saved at /mnt/hgfs/trace_key_1500/key_41.cwp\n"
     ]
    },
    {
     "name": "stderr",
     "output_type": "stream",
     "text": [
      "Capturing traces key=42: 100%|███████████████████████████████████████████████████████████████████████████████████████████████████████████| 8500/8500 [08:50<00:00, 16.03it/s]\n"
     ]
    },
    {
     "name": "stdout",
     "output_type": "stream",
     "text": [
      "firstKey= 42\n",
      "project saved at /mnt/hgfs/trace_key_1500/key_42.cwp\n"
     ]
    },
    {
     "name": "stderr",
     "output_type": "stream",
     "text": [
      "Capturing traces key=43: 100%|███████████████████████████████████████████████████████████████████████████████████████████████████████████| 8500/8500 [08:50<00:00, 16.01it/s]\n"
     ]
    },
    {
     "name": "stdout",
     "output_type": "stream",
     "text": [
      "firstKey= 43\n",
      "project saved at /mnt/hgfs/trace_key_1500/key_43.cwp\n"
     ]
    },
    {
     "name": "stderr",
     "output_type": "stream",
     "text": [
      "Capturing traces key=44: 100%|███████████████████████████████████████████████████████████████████████████████████████████████████████████| 8500/8500 [08:50<00:00, 16.02it/s]\n"
     ]
    },
    {
     "name": "stdout",
     "output_type": "stream",
     "text": [
      "firstKey= 44\n",
      "project saved at /mnt/hgfs/trace_key_1500/key_44.cwp\n"
     ]
    },
    {
     "name": "stderr",
     "output_type": "stream",
     "text": [
      "Capturing traces key=45: 100%|███████████████████████████████████████████████████████████████████████████████████████████████████████████| 8500/8500 [08:50<00:00, 16.03it/s]\n"
     ]
    },
    {
     "name": "stdout",
     "output_type": "stream",
     "text": [
      "firstKey= 45\n",
      "project saved at /mnt/hgfs/trace_key_1500/key_45.cwp\n"
     ]
    },
    {
     "name": "stderr",
     "output_type": "stream",
     "text": [
      "Capturing traces key=46: 100%|███████████████████████████████████████████████████████████████████████████████████████████████████████████| 8500/8500 [08:50<00:00, 16.02it/s]\n"
     ]
    },
    {
     "name": "stdout",
     "output_type": "stream",
     "text": [
      "firstKey= 46\n",
      "project saved at /mnt/hgfs/trace_key_1500/key_46.cwp\n"
     ]
    },
    {
     "name": "stderr",
     "output_type": "stream",
     "text": [
      "Capturing traces key=47: 100%|███████████████████████████████████████████████████████████████████████████████████████████████████████████| 8500/8500 [08:50<00:00, 16.03it/s]\n"
     ]
    },
    {
     "name": "stdout",
     "output_type": "stream",
     "text": [
      "firstKey= 47\n",
      "project saved at /mnt/hgfs/trace_key_1500/key_47.cwp\n"
     ]
    },
    {
     "name": "stderr",
     "output_type": "stream",
     "text": [
      "Capturing traces key=48: 100%|███████████████████████████████████████████████████████████████████████████████████████████████████████████| 8500/8500 [08:50<00:00, 16.02it/s]\n"
     ]
    },
    {
     "name": "stdout",
     "output_type": "stream",
     "text": [
      "firstKey= 48\n",
      "project saved at /mnt/hgfs/trace_key_1500/key_48.cwp\n"
     ]
    },
    {
     "name": "stderr",
     "output_type": "stream",
     "text": [
      "Capturing traces key=49: 100%|███████████████████████████████████████████████████████████████████████████████████████████████████████████| 8500/8500 [08:50<00:00, 16.01it/s]\n"
     ]
    },
    {
     "name": "stdout",
     "output_type": "stream",
     "text": [
      "firstKey= 49\n",
      "project saved at /mnt/hgfs/trace_key_1500/key_49.cwp\n"
     ]
    },
    {
     "name": "stderr",
     "output_type": "stream",
     "text": [
      "Capturing traces key=50: 100%|███████████████████████████████████████████████████████████████████████████████████████████████████████████| 8500/8500 [08:50<00:00, 16.02it/s]\n"
     ]
    },
    {
     "name": "stdout",
     "output_type": "stream",
     "text": [
      "firstKey= 50\n",
      "project saved at /mnt/hgfs/trace_key_1500/key_50.cwp\n"
     ]
    },
    {
     "name": "stderr",
     "output_type": "stream",
     "text": [
      "Capturing traces key=51: 100%|███████████████████████████████████████████████████████████████████████████████████████████████████████████| 8500/8500 [08:50<00:00, 16.02it/s]\n"
     ]
    },
    {
     "name": "stdout",
     "output_type": "stream",
     "text": [
      "firstKey= 51\n",
      "project saved at /mnt/hgfs/trace_key_1500/key_51.cwp\n"
     ]
    },
    {
     "name": "stderr",
     "output_type": "stream",
     "text": [
      "Capturing traces key=52: 100%|███████████████████████████████████████████████████████████████████████████████████████████████████████████| 8500/8500 [08:50<00:00, 16.02it/s]\n"
     ]
    },
    {
     "name": "stdout",
     "output_type": "stream",
     "text": [
      "firstKey= 52\n",
      "project saved at /mnt/hgfs/trace_key_1500/key_52.cwp\n"
     ]
    },
    {
     "name": "stderr",
     "output_type": "stream",
     "text": [
      "Capturing traces key=53: 100%|███████████████████████████████████████████████████████████████████████████████████████████████████████████| 8500/8500 [08:50<00:00, 16.01it/s]\n"
     ]
    },
    {
     "name": "stdout",
     "output_type": "stream",
     "text": [
      "firstKey= 53\n",
      "project saved at /mnt/hgfs/trace_key_1500/key_53.cwp\n"
     ]
    },
    {
     "name": "stderr",
     "output_type": "stream",
     "text": [
      "Capturing traces key=54: 100%|███████████████████████████████████████████████████████████████████████████████████████████████████████████| 8500/8500 [08:50<00:00, 16.02it/s]\n"
     ]
    },
    {
     "name": "stdout",
     "output_type": "stream",
     "text": [
      "firstKey= 54\n",
      "project saved at /mnt/hgfs/trace_key_1500/key_54.cwp\n"
     ]
    },
    {
     "name": "stderr",
     "output_type": "stream",
     "text": [
      "Capturing traces key=55: 100%|███████████████████████████████████████████████████████████████████████████████████████████████████████████| 8500/8500 [08:50<00:00, 16.02it/s]\n"
     ]
    },
    {
     "name": "stdout",
     "output_type": "stream",
     "text": [
      "firstKey= 55\n",
      "project saved at /mnt/hgfs/trace_key_1500/key_55.cwp\n"
     ]
    },
    {
     "name": "stderr",
     "output_type": "stream",
     "text": [
      "Capturing traces key=56: 100%|███████████████████████████████████████████████████████████████████████████████████████████████████████████| 8500/8500 [08:50<00:00, 16.03it/s]\n"
     ]
    },
    {
     "name": "stdout",
     "output_type": "stream",
     "text": [
      "firstKey= 56\n",
      "project saved at /mnt/hgfs/trace_key_1500/key_56.cwp\n"
     ]
    },
    {
     "name": "stderr",
     "output_type": "stream",
     "text": [
      "Capturing traces key=57: 100%|███████████████████████████████████████████████████████████████████████████████████████████████████████████| 8500/8500 [08:50<00:00, 16.03it/s]\n"
     ]
    },
    {
     "name": "stdout",
     "output_type": "stream",
     "text": [
      "firstKey= 57\n",
      "project saved at /mnt/hgfs/trace_key_1500/key_57.cwp\n"
     ]
    },
    {
     "name": "stderr",
     "output_type": "stream",
     "text": [
      "Capturing traces key=58: 100%|███████████████████████████████████████████████████████████████████████████████████████████████████████████| 8500/8500 [08:50<00:00, 16.02it/s]\n"
     ]
    },
    {
     "name": "stdout",
     "output_type": "stream",
     "text": [
      "firstKey= 58\n",
      "project saved at /mnt/hgfs/trace_key_1500/key_58.cwp\n"
     ]
    },
    {
     "name": "stderr",
     "output_type": "stream",
     "text": [
      "Capturing traces key=59: 100%|███████████████████████████████████████████████████████████████████████████████████████████████████████████| 8500/8500 [08:50<00:00, 16.02it/s]\n"
     ]
    },
    {
     "name": "stdout",
     "output_type": "stream",
     "text": [
      "firstKey= 59\n",
      "project saved at /mnt/hgfs/trace_key_1500/key_59.cwp\n"
     ]
    },
    {
     "name": "stderr",
     "output_type": "stream",
     "text": [
      "Capturing traces key=60: 100%|███████████████████████████████████████████████████████████████████████████████████████████████████████████| 8500/8500 [08:50<00:00, 16.02it/s]\n"
     ]
    },
    {
     "name": "stdout",
     "output_type": "stream",
     "text": [
      "firstKey= 60\n",
      "project saved at /mnt/hgfs/trace_key_1500/key_60.cwp\n"
     ]
    },
    {
     "name": "stderr",
     "output_type": "stream",
     "text": [
      "Capturing traces key=61: 100%|███████████████████████████████████████████████████████████████████████████████████████████████████████████| 8500/8500 [08:50<00:00, 16.03it/s]\n"
     ]
    },
    {
     "name": "stdout",
     "output_type": "stream",
     "text": [
      "firstKey= 61\n",
      "project saved at /mnt/hgfs/trace_key_1500/key_61.cwp\n"
     ]
    },
    {
     "name": "stderr",
     "output_type": "stream",
     "text": [
      "Capturing traces key=62: 100%|███████████████████████████████████████████████████████████████████████████████████████████████████████████| 8500/8500 [08:50<00:00, 16.02it/s]\n"
     ]
    },
    {
     "name": "stdout",
     "output_type": "stream",
     "text": [
      "firstKey= 62\n",
      "project saved at /mnt/hgfs/trace_key_1500/key_62.cwp\n"
     ]
    },
    {
     "name": "stderr",
     "output_type": "stream",
     "text": [
      "Capturing traces key=63: 100%|███████████████████████████████████████████████████████████████████████████████████████████████████████████| 8500/8500 [08:50<00:00, 16.01it/s]\n"
     ]
    },
    {
     "name": "stdout",
     "output_type": "stream",
     "text": [
      "firstKey= 63\n",
      "project saved at /mnt/hgfs/trace_key_1500/key_63.cwp\n"
     ]
    },
    {
     "name": "stderr",
     "output_type": "stream",
     "text": [
      "Capturing traces key=64: 100%|███████████████████████████████████████████████████████████████████████████████████████████████████████████| 8500/8500 [08:50<00:00, 16.02it/s]\n"
     ]
    },
    {
     "name": "stdout",
     "output_type": "stream",
     "text": [
      "firstKey= 64\n",
      "project saved at /mnt/hgfs/trace_key_1500/key_64.cwp\n"
     ]
    },
    {
     "name": "stderr",
     "output_type": "stream",
     "text": [
      "Capturing traces key=65: 100%|███████████████████████████████████████████████████████████████████████████████████████████████████████████| 8500/8500 [08:50<00:00, 16.02it/s]\n"
     ]
    },
    {
     "name": "stdout",
     "output_type": "stream",
     "text": [
      "firstKey= 65\n",
      "project saved at /mnt/hgfs/trace_key_1500/key_65.cwp\n"
     ]
    },
    {
     "name": "stderr",
     "output_type": "stream",
     "text": [
      "Capturing traces key=66: 100%|███████████████████████████████████████████████████████████████████████████████████████████████████████████| 8500/8500 [08:50<00:00, 16.03it/s]\n"
     ]
    },
    {
     "name": "stdout",
     "output_type": "stream",
     "text": [
      "firstKey= 66\n",
      "project saved at /mnt/hgfs/trace_key_1500/key_66.cwp\n"
     ]
    },
    {
     "name": "stderr",
     "output_type": "stream",
     "text": [
      "Capturing traces key=67: 100%|███████████████████████████████████████████████████████████████████████████████████████████████████████████| 8500/8500 [08:50<00:00, 16.02it/s]\n"
     ]
    },
    {
     "name": "stdout",
     "output_type": "stream",
     "text": [
      "firstKey= 67\n",
      "project saved at /mnt/hgfs/trace_key_1500/key_67.cwp\n"
     ]
    },
    {
     "name": "stderr",
     "output_type": "stream",
     "text": [
      "Capturing traces key=68: 100%|███████████████████████████████████████████████████████████████████████████████████████████████████████████| 8500/8500 [08:50<00:00, 16.01it/s]\n"
     ]
    },
    {
     "name": "stdout",
     "output_type": "stream",
     "text": [
      "firstKey= 68\n",
      "project saved at /mnt/hgfs/trace_key_1500/key_68.cwp\n"
     ]
    },
    {
     "name": "stderr",
     "output_type": "stream",
     "text": [
      "Capturing traces key=69: 100%|███████████████████████████████████████████████████████████████████████████████████████████████████████████| 8500/8500 [08:50<00:00, 16.02it/s]\n"
     ]
    },
    {
     "name": "stdout",
     "output_type": "stream",
     "text": [
      "firstKey= 69\n",
      "project saved at /mnt/hgfs/trace_key_1500/key_69.cwp\n"
     ]
    },
    {
     "name": "stderr",
     "output_type": "stream",
     "text": [
      "Capturing traces key=70: 100%|███████████████████████████████████████████████████████████████████████████████████████████████████████████| 8500/8500 [08:50<00:00, 16.03it/s]\n"
     ]
    },
    {
     "name": "stdout",
     "output_type": "stream",
     "text": [
      "firstKey= 70\n",
      "project saved at /mnt/hgfs/trace_key_1500/key_70.cwp\n"
     ]
    },
    {
     "name": "stderr",
     "output_type": "stream",
     "text": [
      "Capturing traces key=71: 100%|███████████████████████████████████████████████████████████████████████████████████████████████████████████| 8500/8500 [08:50<00:00, 16.02it/s]\n"
     ]
    },
    {
     "name": "stdout",
     "output_type": "stream",
     "text": [
      "firstKey= 71\n",
      "project saved at /mnt/hgfs/trace_key_1500/key_71.cwp\n"
     ]
    },
    {
     "name": "stderr",
     "output_type": "stream",
     "text": [
      "Capturing traces key=72: 100%|███████████████████████████████████████████████████████████████████████████████████████████████████████████| 8500/8500 [08:50<00:00, 16.02it/s]\n"
     ]
    },
    {
     "name": "stdout",
     "output_type": "stream",
     "text": [
      "firstKey= 72\n",
      "project saved at /mnt/hgfs/trace_key_1500/key_72.cwp\n"
     ]
    },
    {
     "name": "stderr",
     "output_type": "stream",
     "text": [
      "Capturing traces key=73: 100%|███████████████████████████████████████████████████████████████████████████████████████████████████████████| 8500/8500 [08:50<00:00, 16.03it/s]\n"
     ]
    },
    {
     "name": "stdout",
     "output_type": "stream",
     "text": [
      "firstKey= 73\n",
      "project saved at /mnt/hgfs/trace_key_1500/key_73.cwp\n"
     ]
    },
    {
     "name": "stderr",
     "output_type": "stream",
     "text": [
      "Capturing traces key=74: 100%|███████████████████████████████████████████████████████████████████████████████████████████████████████████| 8500/8500 [08:50<00:00, 16.01it/s]\n"
     ]
    },
    {
     "name": "stdout",
     "output_type": "stream",
     "text": [
      "firstKey= 74\n",
      "project saved at /mnt/hgfs/trace_key_1500/key_74.cwp\n"
     ]
    },
    {
     "name": "stderr",
     "output_type": "stream",
     "text": [
      "Capturing traces key=75: 100%|███████████████████████████████████████████████████████████████████████████████████████████████████████████| 8500/8500 [08:50<00:00, 16.01it/s]\n"
     ]
    },
    {
     "name": "stdout",
     "output_type": "stream",
     "text": [
      "firstKey= 75\n",
      "project saved at /mnt/hgfs/trace_key_1500/key_75.cwp\n"
     ]
    },
    {
     "name": "stderr",
     "output_type": "stream",
     "text": [
      "Capturing traces key=76: 100%|███████████████████████████████████████████████████████████████████████████████████████████████████████████| 8500/8500 [08:50<00:00, 16.02it/s]\n"
     ]
    },
    {
     "name": "stdout",
     "output_type": "stream",
     "text": [
      "firstKey= 76\n",
      "project saved at /mnt/hgfs/trace_key_1500/key_76.cwp\n"
     ]
    },
    {
     "name": "stderr",
     "output_type": "stream",
     "text": [
      "Capturing traces key=77: 100%|███████████████████████████████████████████████████████████████████████████████████████████████████████████| 8500/8500 [08:50<00:00, 16.02it/s]\n"
     ]
    },
    {
     "name": "stdout",
     "output_type": "stream",
     "text": [
      "firstKey= 77\n",
      "project saved at /mnt/hgfs/trace_key_1500/key_77.cwp\n"
     ]
    },
    {
     "name": "stderr",
     "output_type": "stream",
     "text": [
      "Capturing traces key=78: 100%|███████████████████████████████████████████████████████████████████████████████████████████████████████████| 8500/8500 [08:50<00:00, 16.01it/s]\n"
     ]
    },
    {
     "name": "stdout",
     "output_type": "stream",
     "text": [
      "firstKey= 78\n",
      "project saved at /mnt/hgfs/trace_key_1500/key_78.cwp\n"
     ]
    },
    {
     "name": "stderr",
     "output_type": "stream",
     "text": [
      "Capturing traces key=79: 100%|███████████████████████████████████████████████████████████████████████████████████████████████████████████| 8500/8500 [08:50<00:00, 16.03it/s]\n"
     ]
    },
    {
     "name": "stdout",
     "output_type": "stream",
     "text": [
      "firstKey= 79\n",
      "project saved at /mnt/hgfs/trace_key_1500/key_79.cwp\n"
     ]
    },
    {
     "name": "stderr",
     "output_type": "stream",
     "text": [
      "Capturing traces key=80: 100%|███████████████████████████████████████████████████████████████████████████████████████████████████████████| 8500/8500 [08:50<00:00, 16.01it/s]\n"
     ]
    },
    {
     "name": "stdout",
     "output_type": "stream",
     "text": [
      "firstKey= 80\n",
      "project saved at /mnt/hgfs/trace_key_1500/key_80.cwp\n"
     ]
    },
    {
     "name": "stderr",
     "output_type": "stream",
     "text": [
      "Capturing traces key=81: 100%|███████████████████████████████████████████████████████████████████████████████████████████████████████████| 8500/8500 [08:50<00:00, 16.03it/s]\n"
     ]
    },
    {
     "name": "stdout",
     "output_type": "stream",
     "text": [
      "firstKey= 81\n",
      "project saved at /mnt/hgfs/trace_key_1500/key_81.cwp\n"
     ]
    },
    {
     "name": "stderr",
     "output_type": "stream",
     "text": [
      "Capturing traces key=82: 100%|███████████████████████████████████████████████████████████████████████████████████████████████████████████| 8500/8500 [08:50<00:00, 16.02it/s]\n"
     ]
    },
    {
     "name": "stdout",
     "output_type": "stream",
     "text": [
      "firstKey= 82\n",
      "project saved at /mnt/hgfs/trace_key_1500/key_82.cwp\n"
     ]
    },
    {
     "name": "stderr",
     "output_type": "stream",
     "text": [
      "Capturing traces key=83: 100%|███████████████████████████████████████████████████████████████████████████████████████████████████████████| 8500/8500 [08:50<00:00, 16.03it/s]\n"
     ]
    },
    {
     "name": "stdout",
     "output_type": "stream",
     "text": [
      "firstKey= 83\n",
      "project saved at /mnt/hgfs/trace_key_1500/key_83.cwp\n"
     ]
    },
    {
     "name": "stderr",
     "output_type": "stream",
     "text": [
      "Capturing traces key=84: 100%|███████████████████████████████████████████████████████████████████████████████████████████████████████████| 8500/8500 [08:50<00:00, 16.03it/s]\n"
     ]
    },
    {
     "name": "stdout",
     "output_type": "stream",
     "text": [
      "firstKey= 84\n",
      "project saved at /mnt/hgfs/trace_key_1500/key_84.cwp\n"
     ]
    },
    {
     "name": "stderr",
     "output_type": "stream",
     "text": [
      "Capturing traces key=85: 100%|███████████████████████████████████████████████████████████████████████████████████████████████████████████| 8500/8500 [08:50<00:00, 16.02it/s]\n"
     ]
    },
    {
     "name": "stdout",
     "output_type": "stream",
     "text": [
      "firstKey= 85\n",
      "project saved at /mnt/hgfs/trace_key_1500/key_85.cwp\n"
     ]
    },
    {
     "name": "stderr",
     "output_type": "stream",
     "text": [
      "Capturing traces key=86: 100%|███████████████████████████████████████████████████████████████████████████████████████████████████████████| 8500/8500 [08:50<00:00, 16.02it/s]\n"
     ]
    },
    {
     "name": "stdout",
     "output_type": "stream",
     "text": [
      "firstKey= 86\n",
      "project saved at /mnt/hgfs/trace_key_1500/key_86.cwp\n"
     ]
    },
    {
     "name": "stderr",
     "output_type": "stream",
     "text": [
      "Capturing traces key=87: 100%|███████████████████████████████████████████████████████████████████████████████████████████████████████████| 8500/8500 [08:50<00:00, 16.02it/s]\n"
     ]
    },
    {
     "name": "stdout",
     "output_type": "stream",
     "text": [
      "firstKey= 87\n",
      "project saved at /mnt/hgfs/trace_key_1500/key_87.cwp\n"
     ]
    },
    {
     "name": "stderr",
     "output_type": "stream",
     "text": [
      "Capturing traces key=88: 100%|███████████████████████████████████████████████████████████████████████████████████████████████████████████| 8500/8500 [08:50<00:00, 16.03it/s]\n"
     ]
    },
    {
     "name": "stdout",
     "output_type": "stream",
     "text": [
      "firstKey= 88\n",
      "project saved at /mnt/hgfs/trace_key_1500/key_88.cwp\n"
     ]
    },
    {
     "name": "stderr",
     "output_type": "stream",
     "text": [
      "Capturing traces key=89: 100%|███████████████████████████████████████████████████████████████████████████████████████████████████████████| 8500/8500 [08:50<00:00, 16.02it/s]\n"
     ]
    },
    {
     "name": "stdout",
     "output_type": "stream",
     "text": [
      "firstKey= 89\n",
      "project saved at /mnt/hgfs/trace_key_1500/key_89.cwp\n"
     ]
    },
    {
     "name": "stderr",
     "output_type": "stream",
     "text": [
      "Capturing traces key=90: 100%|███████████████████████████████████████████████████████████████████████████████████████████████████████████| 8500/8500 [08:50<00:00, 16.03it/s]\n"
     ]
    },
    {
     "name": "stdout",
     "output_type": "stream",
     "text": [
      "firstKey= 90\n",
      "project saved at /mnt/hgfs/trace_key_1500/key_90.cwp\n"
     ]
    },
    {
     "name": "stderr",
     "output_type": "stream",
     "text": [
      "Capturing traces key=91: 100%|███████████████████████████████████████████████████████████████████████████████████████████████████████████| 8500/8500 [08:50<00:00, 16.01it/s]\n"
     ]
    },
    {
     "name": "stdout",
     "output_type": "stream",
     "text": [
      "firstKey= 91\n",
      "project saved at /mnt/hgfs/trace_key_1500/key_91.cwp\n"
     ]
    },
    {
     "name": "stderr",
     "output_type": "stream",
     "text": [
      "Capturing traces key=92: 100%|███████████████████████████████████████████████████████████████████████████████████████████████████████████| 8500/8500 [08:50<00:00, 16.02it/s]\n"
     ]
    },
    {
     "name": "stdout",
     "output_type": "stream",
     "text": [
      "firstKey= 92\n",
      "project saved at /mnt/hgfs/trace_key_1500/key_92.cwp\n"
     ]
    },
    {
     "name": "stderr",
     "output_type": "stream",
     "text": [
      "Capturing traces key=93: 100%|███████████████████████████████████████████████████████████████████████████████████████████████████████████| 8500/8500 [08:50<00:00, 16.02it/s]\n"
     ]
    },
    {
     "name": "stdout",
     "output_type": "stream",
     "text": [
      "firstKey= 93\n",
      "project saved at /mnt/hgfs/trace_key_1500/key_93.cwp\n"
     ]
    },
    {
     "name": "stderr",
     "output_type": "stream",
     "text": [
      "Capturing traces key=94: 100%|███████████████████████████████████████████████████████████████████████████████████████████████████████████| 8500/8500 [08:50<00:00, 16.02it/s]\n"
     ]
    },
    {
     "name": "stdout",
     "output_type": "stream",
     "text": [
      "firstKey= 94\n",
      "project saved at /mnt/hgfs/trace_key_1500/key_94.cwp\n"
     ]
    },
    {
     "name": "stderr",
     "output_type": "stream",
     "text": [
      "Capturing traces key=95: 100%|███████████████████████████████████████████████████████████████████████████████████████████████████████████| 8500/8500 [08:50<00:00, 16.03it/s]\n"
     ]
    },
    {
     "name": "stdout",
     "output_type": "stream",
     "text": [
      "firstKey= 95\n",
      "project saved at /mnt/hgfs/trace_key_1500/key_95.cwp\n"
     ]
    },
    {
     "name": "stderr",
     "output_type": "stream",
     "text": [
      "Capturing traces key=96: 100%|███████████████████████████████████████████████████████████████████████████████████████████████████████████| 8500/8500 [08:50<00:00, 16.02it/s]\n"
     ]
    },
    {
     "name": "stdout",
     "output_type": "stream",
     "text": [
      "firstKey= 96\n",
      "project saved at /mnt/hgfs/trace_key_1500/key_96.cwp\n"
     ]
    },
    {
     "name": "stderr",
     "output_type": "stream",
     "text": [
      "Capturing traces key=97: 100%|███████████████████████████████████████████████████████████████████████████████████████████████████████████| 8500/8500 [08:50<00:00, 16.03it/s]\n"
     ]
    },
    {
     "name": "stdout",
     "output_type": "stream",
     "text": [
      "firstKey= 97\n",
      "project saved at /mnt/hgfs/trace_key_1500/key_97.cwp\n"
     ]
    },
    {
     "name": "stderr",
     "output_type": "stream",
     "text": [
      "Capturing traces key=98: 100%|███████████████████████████████████████████████████████████████████████████████████████████████████████████| 8500/8500 [08:50<00:00, 16.02it/s]\n"
     ]
    },
    {
     "name": "stdout",
     "output_type": "stream",
     "text": [
      "firstKey= 98\n",
      "project saved at /mnt/hgfs/trace_key_1500/key_98.cwp\n"
     ]
    },
    {
     "name": "stderr",
     "output_type": "stream",
     "text": [
      "Capturing traces key=99: 100%|███████████████████████████████████████████████████████████████████████████████████████████████████████████| 8500/8500 [08:50<00:00, 16.02it/s]\n"
     ]
    },
    {
     "name": "stdout",
     "output_type": "stream",
     "text": [
      "firstKey= 99\n",
      "project saved at /mnt/hgfs/trace_key_1500/key_99.cwp\n"
     ]
    },
    {
     "name": "stderr",
     "output_type": "stream",
     "text": [
      "Capturing traces key=100: 100%|██████████████████████████████████████████████████████████████████████████████████████████████████████████| 8500/8500 [08:50<00:00, 16.01it/s]\n"
     ]
    },
    {
     "name": "stdout",
     "output_type": "stream",
     "text": [
      "firstKey= 100\n",
      "project saved at /mnt/hgfs/trace_key_1500/key_100.cwp\n"
     ]
    },
    {
     "name": "stderr",
     "output_type": "stream",
     "text": [
      "Capturing traces key=101: 100%|██████████████████████████████████████████████████████████████████████████████████████████████████████████| 8500/8500 [08:50<00:00, 16.01it/s]\n"
     ]
    },
    {
     "name": "stdout",
     "output_type": "stream",
     "text": [
      "firstKey= 101\n",
      "project saved at /mnt/hgfs/trace_key_1500/key_101.cwp\n"
     ]
    },
    {
     "name": "stderr",
     "output_type": "stream",
     "text": [
      "Capturing traces key=102: 100%|██████████████████████████████████████████████████████████████████████████████████████████████████████████| 8500/8500 [08:50<00:00, 16.04it/s]\n"
     ]
    },
    {
     "name": "stdout",
     "output_type": "stream",
     "text": [
      "firstKey= 102\n",
      "project saved at /mnt/hgfs/trace_key_1500/key_102.cwp\n"
     ]
    },
    {
     "name": "stderr",
     "output_type": "stream",
     "text": [
      "Capturing traces key=103: 100%|██████████████████████████████████████████████████████████████████████████████████████████████████████████| 8500/8500 [08:50<00:00, 16.02it/s]\n"
     ]
    },
    {
     "name": "stdout",
     "output_type": "stream",
     "text": [
      "firstKey= 103\n",
      "project saved at /mnt/hgfs/trace_key_1500/key_103.cwp\n"
     ]
    },
    {
     "name": "stderr",
     "output_type": "stream",
     "text": [
      "Capturing traces key=104: 100%|██████████████████████████████████████████████████████████████████████████████████████████████████████████| 8500/8500 [08:50<00:00, 16.02it/s]\n"
     ]
    },
    {
     "name": "stdout",
     "output_type": "stream",
     "text": [
      "firstKey= 104\n",
      "project saved at /mnt/hgfs/trace_key_1500/key_104.cwp\n"
     ]
    },
    {
     "name": "stderr",
     "output_type": "stream",
     "text": [
      "Capturing traces key=105: 100%|██████████████████████████████████████████████████████████████████████████████████████████████████████████| 8500/8500 [08:50<00:00, 16.01it/s]\n"
     ]
    },
    {
     "name": "stdout",
     "output_type": "stream",
     "text": [
      "firstKey= 105\n",
      "project saved at /mnt/hgfs/trace_key_1500/key_105.cwp\n"
     ]
    },
    {
     "name": "stderr",
     "output_type": "stream",
     "text": [
      "Capturing traces key=106: 100%|██████████████████████████████████████████████████████████████████████████████████████████████████████████| 8500/8500 [08:50<00:00, 16.01it/s]\n"
     ]
    },
    {
     "name": "stdout",
     "output_type": "stream",
     "text": [
      "firstKey= 106\n",
      "project saved at /mnt/hgfs/trace_key_1500/key_106.cwp\n"
     ]
    },
    {
     "name": "stderr",
     "output_type": "stream",
     "text": [
      "Capturing traces key=107: 100%|██████████████████████████████████████████████████████████████████████████████████████████████████████████| 8500/8500 [08:50<00:00, 16.02it/s]\n"
     ]
    },
    {
     "name": "stdout",
     "output_type": "stream",
     "text": [
      "firstKey= 107\n",
      "project saved at /mnt/hgfs/trace_key_1500/key_107.cwp\n"
     ]
    },
    {
     "name": "stderr",
     "output_type": "stream",
     "text": [
      "Capturing traces key=108: 100%|██████████████████████████████████████████████████████████████████████████████████████████████████████████| 8500/8500 [08:50<00:00, 16.03it/s]\n"
     ]
    },
    {
     "name": "stdout",
     "output_type": "stream",
     "text": [
      "firstKey= 108\n",
      "project saved at /mnt/hgfs/trace_key_1500/key_108.cwp\n"
     ]
    },
    {
     "name": "stderr",
     "output_type": "stream",
     "text": [
      "Capturing traces key=109: 100%|██████████████████████████████████████████████████████████████████████████████████████████████████████████| 8500/8500 [08:50<00:00, 16.03it/s]\n"
     ]
    },
    {
     "name": "stdout",
     "output_type": "stream",
     "text": [
      "firstKey= 109\n",
      "project saved at /mnt/hgfs/trace_key_1500/key_109.cwp\n"
     ]
    },
    {
     "name": "stderr",
     "output_type": "stream",
     "text": [
      "Capturing traces key=110: 100%|██████████████████████████████████████████████████████████████████████████████████████████████████████████| 8500/8500 [08:50<00:00, 16.01it/s]\n"
     ]
    },
    {
     "name": "stdout",
     "output_type": "stream",
     "text": [
      "firstKey= 110\n",
      "project saved at /mnt/hgfs/trace_key_1500/key_110.cwp\n"
     ]
    },
    {
     "name": "stderr",
     "output_type": "stream",
     "text": [
      "Capturing traces key=111: 100%|██████████████████████████████████████████████████████████████████████████████████████████████████████████| 8500/8500 [08:50<00:00, 16.01it/s]\n"
     ]
    },
    {
     "name": "stdout",
     "output_type": "stream",
     "text": [
      "firstKey= 111\n",
      "project saved at /mnt/hgfs/trace_key_1500/key_111.cwp\n"
     ]
    },
    {
     "name": "stderr",
     "output_type": "stream",
     "text": [
      "Capturing traces key=112: 100%|██████████████████████████████████████████████████████████████████████████████████████████████████████████| 8500/8500 [08:50<00:00, 16.01it/s]\n"
     ]
    },
    {
     "name": "stdout",
     "output_type": "stream",
     "text": [
      "firstKey= 112\n",
      "project saved at /mnt/hgfs/trace_key_1500/key_112.cwp\n"
     ]
    },
    {
     "name": "stderr",
     "output_type": "stream",
     "text": [
      "Capturing traces key=113: 100%|██████████████████████████████████████████████████████████████████████████████████████████████████████████| 8500/8500 [08:50<00:00, 16.02it/s]\n"
     ]
    },
    {
     "name": "stdout",
     "output_type": "stream",
     "text": [
      "firstKey= 113\n",
      "project saved at /mnt/hgfs/trace_key_1500/key_113.cwp\n"
     ]
    },
    {
     "name": "stderr",
     "output_type": "stream",
     "text": [
      "Capturing traces key=114: 100%|██████████████████████████████████████████████████████████████████████████████████████████████████████████| 8500/8500 [08:50<00:00, 16.02it/s]\n"
     ]
    },
    {
     "name": "stdout",
     "output_type": "stream",
     "text": [
      "firstKey= 114\n",
      "project saved at /mnt/hgfs/trace_key_1500/key_114.cwp\n"
     ]
    },
    {
     "name": "stderr",
     "output_type": "stream",
     "text": [
      "Capturing traces key=115: 100%|██████████████████████████████████████████████████████████████████████████████████████████████████████████| 8500/8500 [08:50<00:00, 16.03it/s]\n"
     ]
    },
    {
     "name": "stdout",
     "output_type": "stream",
     "text": [
      "firstKey= 115\n",
      "project saved at /mnt/hgfs/trace_key_1500/key_115.cwp\n"
     ]
    },
    {
     "name": "stderr",
     "output_type": "stream",
     "text": [
      "Capturing traces key=116: 100%|██████████████████████████████████████████████████████████████████████████████████████████████████████████| 8500/8500 [08:50<00:00, 16.02it/s]\n"
     ]
    },
    {
     "name": "stdout",
     "output_type": "stream",
     "text": [
      "firstKey= 116\n",
      "project saved at /mnt/hgfs/trace_key_1500/key_116.cwp\n"
     ]
    },
    {
     "name": "stderr",
     "output_type": "stream",
     "text": [
      "Capturing traces key=117: 100%|██████████████████████████████████████████████████████████████████████████████████████████████████████████| 8500/8500 [08:50<00:00, 16.02it/s]\n"
     ]
    },
    {
     "name": "stdout",
     "output_type": "stream",
     "text": [
      "firstKey= 117\n",
      "project saved at /mnt/hgfs/trace_key_1500/key_117.cwp\n"
     ]
    },
    {
     "name": "stderr",
     "output_type": "stream",
     "text": [
      "Capturing traces key=118: 100%|██████████████████████████████████████████████████████████████████████████████████████████████████████████| 8500/8500 [08:50<00:00, 16.01it/s]\n"
     ]
    },
    {
     "name": "stdout",
     "output_type": "stream",
     "text": [
      "firstKey= 118\n",
      "project saved at /mnt/hgfs/trace_key_1500/key_118.cwp\n"
     ]
    },
    {
     "name": "stderr",
     "output_type": "stream",
     "text": [
      "Capturing traces key=119: 100%|██████████████████████████████████████████████████████████████████████████████████████████████████████████| 8500/8500 [08:50<00:00, 16.01it/s]\n"
     ]
    },
    {
     "name": "stdout",
     "output_type": "stream",
     "text": [
      "firstKey= 119\n",
      "project saved at /mnt/hgfs/trace_key_1500/key_119.cwp\n"
     ]
    },
    {
     "name": "stderr",
     "output_type": "stream",
     "text": [
      "Capturing traces key=120: 100%|██████████████████████████████████████████████████████████████████████████████████████████████████████████| 8500/8500 [08:50<00:00, 16.02it/s]\n"
     ]
    },
    {
     "name": "stdout",
     "output_type": "stream",
     "text": [
      "firstKey= 120\n",
      "project saved at /mnt/hgfs/trace_key_1500/key_120.cwp\n"
     ]
    },
    {
     "name": "stderr",
     "output_type": "stream",
     "text": [
      "Capturing traces key=121: 100%|██████████████████████████████████████████████████████████████████████████████████████████████████████████| 8500/8500 [08:51<00:00, 16.01it/s]\n"
     ]
    },
    {
     "name": "stdout",
     "output_type": "stream",
     "text": [
      "firstKey= 121\n",
      "project saved at /mnt/hgfs/trace_key_1500/key_121.cwp\n"
     ]
    },
    {
     "name": "stderr",
     "output_type": "stream",
     "text": [
      "Capturing traces key=122: 100%|██████████████████████████████████████████████████████████████████████████████████████████████████████████| 8500/8500 [08:50<00:00, 16.01it/s]\n"
     ]
    },
    {
     "name": "stdout",
     "output_type": "stream",
     "text": [
      "firstKey= 122\n",
      "project saved at /mnt/hgfs/trace_key_1500/key_122.cwp\n"
     ]
    },
    {
     "name": "stderr",
     "output_type": "stream",
     "text": [
      "Capturing traces key=123: 100%|██████████████████████████████████████████████████████████████████████████████████████████████████████████| 8500/8500 [08:50<00:00, 16.02it/s]\n"
     ]
    },
    {
     "name": "stdout",
     "output_type": "stream",
     "text": [
      "firstKey= 123\n",
      "project saved at /mnt/hgfs/trace_key_1500/key_123.cwp\n"
     ]
    },
    {
     "name": "stderr",
     "output_type": "stream",
     "text": [
      "Capturing traces key=124: 100%|██████████████████████████████████████████████████████████████████████████████████████████████████████████| 8500/8500 [08:50<00:00, 16.02it/s]\n"
     ]
    },
    {
     "name": "stdout",
     "output_type": "stream",
     "text": [
      "firstKey= 124\n",
      "project saved at /mnt/hgfs/trace_key_1500/key_124.cwp\n"
     ]
    },
    {
     "name": "stderr",
     "output_type": "stream",
     "text": [
      "Capturing traces key=125: 100%|██████████████████████████████████████████████████████████████████████████████████████████████████████████| 8500/8500 [08:50<00:00, 16.02it/s]\n"
     ]
    },
    {
     "name": "stdout",
     "output_type": "stream",
     "text": [
      "firstKey= 125\n",
      "project saved at /mnt/hgfs/trace_key_1500/key_125.cwp\n"
     ]
    },
    {
     "name": "stderr",
     "output_type": "stream",
     "text": [
      "Capturing traces key=126: 100%|██████████████████████████████████████████████████████████████████████████████████████████████████████████| 8500/8500 [08:50<00:00, 16.02it/s]\n"
     ]
    },
    {
     "name": "stdout",
     "output_type": "stream",
     "text": [
      "firstKey= 126\n",
      "project saved at /mnt/hgfs/trace_key_1500/key_126.cwp\n"
     ]
    },
    {
     "name": "stderr",
     "output_type": "stream",
     "text": [
      "Capturing traces key=127: 100%|██████████████████████████████████████████████████████████████████████████████████████████████████████████| 8500/8500 [08:50<00:00, 16.02it/s]\n"
     ]
    },
    {
     "name": "stdout",
     "output_type": "stream",
     "text": [
      "firstKey= 127\n",
      "project saved at /mnt/hgfs/trace_key_1500/key_127.cwp\n"
     ]
    },
    {
     "name": "stderr",
     "output_type": "stream",
     "text": [
      "Capturing traces key=128: 100%|██████████████████████████████████████████████████████████████████████████████████████████████████████████| 8500/8500 [08:50<00:00, 16.02it/s]\n"
     ]
    },
    {
     "name": "stdout",
     "output_type": "stream",
     "text": [
      "firstKey= 128\n",
      "project saved at /mnt/hgfs/trace_key_1500/key_128.cwp\n"
     ]
    },
    {
     "name": "stderr",
     "output_type": "stream",
     "text": [
      "Capturing traces key=129: 100%|██████████████████████████████████████████████████████████████████████████████████████████████████████████| 8500/8500 [08:50<00:00, 16.02it/s]\n"
     ]
    },
    {
     "name": "stdout",
     "output_type": "stream",
     "text": [
      "firstKey= 129\n",
      "project saved at /mnt/hgfs/trace_key_1500/key_129.cwp\n"
     ]
    },
    {
     "name": "stderr",
     "output_type": "stream",
     "text": [
      "Capturing traces key=130: 100%|██████████████████████████████████████████████████████████████████████████████████████████████████████████| 8500/8500 [08:50<00:00, 16.03it/s]\n"
     ]
    },
    {
     "name": "stdout",
     "output_type": "stream",
     "text": [
      "firstKey= 130\n",
      "project saved at /mnt/hgfs/trace_key_1500/key_130.cwp\n"
     ]
    },
    {
     "name": "stderr",
     "output_type": "stream",
     "text": [
      "Capturing traces key=131: 100%|██████████████████████████████████████████████████████████████████████████████████████████████████████████| 8500/8500 [08:50<00:00, 16.02it/s]\n"
     ]
    },
    {
     "name": "stdout",
     "output_type": "stream",
     "text": [
      "firstKey= 131\n",
      "project saved at /mnt/hgfs/trace_key_1500/key_131.cwp\n"
     ]
    },
    {
     "name": "stderr",
     "output_type": "stream",
     "text": [
      "Capturing traces key=132: 100%|██████████████████████████████████████████████████████████████████████████████████████████████████████████| 8500/8500 [08:50<00:00, 16.03it/s]\n"
     ]
    },
    {
     "name": "stdout",
     "output_type": "stream",
     "text": [
      "firstKey= 132\n",
      "project saved at /mnt/hgfs/trace_key_1500/key_132.cwp\n"
     ]
    },
    {
     "name": "stderr",
     "output_type": "stream",
     "text": [
      "Capturing traces key=133: 100%|██████████████████████████████████████████████████████████████████████████████████████████████████████████| 8500/8500 [08:50<00:00, 16.02it/s]\n"
     ]
    },
    {
     "name": "stdout",
     "output_type": "stream",
     "text": [
      "firstKey= 133\n",
      "project saved at /mnt/hgfs/trace_key_1500/key_133.cwp\n"
     ]
    },
    {
     "name": "stderr",
     "output_type": "stream",
     "text": [
      "Capturing traces key=134: 100%|██████████████████████████████████████████████████████████████████████████████████████████████████████████| 8500/8500 [08:50<00:00, 16.01it/s]\n"
     ]
    },
    {
     "name": "stdout",
     "output_type": "stream",
     "text": [
      "firstKey= 134\n",
      "project saved at /mnt/hgfs/trace_key_1500/key_134.cwp\n"
     ]
    },
    {
     "name": "stderr",
     "output_type": "stream",
     "text": [
      "Capturing traces key=135: 100%|██████████████████████████████████████████████████████████████████████████████████████████████████████████| 8500/8500 [08:50<00:00, 16.03it/s]\n"
     ]
    },
    {
     "name": "stdout",
     "output_type": "stream",
     "text": [
      "firstKey= 135\n",
      "project saved at /mnt/hgfs/trace_key_1500/key_135.cwp\n"
     ]
    },
    {
     "name": "stderr",
     "output_type": "stream",
     "text": [
      "Capturing traces key=136: 100%|██████████████████████████████████████████████████████████████████████████████████████████████████████████| 8500/8500 [08:50<00:00, 16.01it/s]\n"
     ]
    },
    {
     "name": "stdout",
     "output_type": "stream",
     "text": [
      "firstKey= 136\n",
      "project saved at /mnt/hgfs/trace_key_1500/key_136.cwp\n"
     ]
    },
    {
     "name": "stderr",
     "output_type": "stream",
     "text": [
      "Capturing traces key=137: 100%|██████████████████████████████████████████████████████████████████████████████████████████████████████████| 8500/8500 [08:50<00:00, 16.02it/s]\n"
     ]
    },
    {
     "name": "stdout",
     "output_type": "stream",
     "text": [
      "firstKey= 137\n",
      "project saved at /mnt/hgfs/trace_key_1500/key_137.cwp\n"
     ]
    },
    {
     "name": "stderr",
     "output_type": "stream",
     "text": [
      "Capturing traces key=138: 100%|██████████████████████████████████████████████████████████████████████████████████████████████████████████| 8500/8500 [08:50<00:00, 16.02it/s]\n"
     ]
    },
    {
     "name": "stdout",
     "output_type": "stream",
     "text": [
      "firstKey= 138\n",
      "project saved at /mnt/hgfs/trace_key_1500/key_138.cwp\n"
     ]
    },
    {
     "name": "stderr",
     "output_type": "stream",
     "text": [
      "Capturing traces key=139: 100%|██████████████████████████████████████████████████████████████████████████████████████████████████████████| 8500/8500 [08:50<00:00, 16.03it/s]\n"
     ]
    },
    {
     "name": "stdout",
     "output_type": "stream",
     "text": [
      "firstKey= 139\n",
      "project saved at /mnt/hgfs/trace_key_1500/key_139.cwp\n"
     ]
    },
    {
     "name": "stderr",
     "output_type": "stream",
     "text": [
      "Capturing traces key=140: 100%|██████████████████████████████████████████████████████████████████████████████████████████████████████████| 8500/8500 [08:50<00:00, 16.02it/s]\n"
     ]
    },
    {
     "name": "stdout",
     "output_type": "stream",
     "text": [
      "firstKey= 140\n",
      "project saved at /mnt/hgfs/trace_key_1500/key_140.cwp\n"
     ]
    },
    {
     "name": "stderr",
     "output_type": "stream",
     "text": [
      "Capturing traces key=141: 100%|██████████████████████████████████████████████████████████████████████████████████████████████████████████| 8500/8500 [08:50<00:00, 16.02it/s]\n"
     ]
    },
    {
     "name": "stdout",
     "output_type": "stream",
     "text": [
      "firstKey= 141\n",
      "project saved at /mnt/hgfs/trace_key_1500/key_141.cwp\n"
     ]
    },
    {
     "name": "stderr",
     "output_type": "stream",
     "text": [
      "Capturing traces key=142: 100%|██████████████████████████████████████████████████████████████████████████████████████████████████████████| 8500/8500 [08:50<00:00, 16.03it/s]\n"
     ]
    },
    {
     "name": "stdout",
     "output_type": "stream",
     "text": [
      "firstKey= 142\n",
      "project saved at /mnt/hgfs/trace_key_1500/key_142.cwp\n"
     ]
    },
    {
     "name": "stderr",
     "output_type": "stream",
     "text": [
      "Capturing traces key=143: 100%|██████████████████████████████████████████████████████████████████████████████████████████████████████████| 8500/8500 [08:50<00:00, 16.02it/s]\n"
     ]
    },
    {
     "name": "stdout",
     "output_type": "stream",
     "text": [
      "firstKey= 143\n",
      "project saved at /mnt/hgfs/trace_key_1500/key_143.cwp\n"
     ]
    },
    {
     "name": "stderr",
     "output_type": "stream",
     "text": [
      "Capturing traces key=144: 100%|██████████████████████████████████████████████████████████████████████████████████████████████████████████| 8500/8500 [08:50<00:00, 16.02it/s]\n"
     ]
    },
    {
     "name": "stdout",
     "output_type": "stream",
     "text": [
      "firstKey= 144\n",
      "project saved at /mnt/hgfs/trace_key_1500/key_144.cwp\n"
     ]
    },
    {
     "name": "stderr",
     "output_type": "stream",
     "text": [
      "Capturing traces key=145: 100%|██████████████████████████████████████████████████████████████████████████████████████████████████████████| 8500/8500 [08:50<00:00, 16.02it/s]\n"
     ]
    },
    {
     "name": "stdout",
     "output_type": "stream",
     "text": [
      "firstKey= 145\n",
      "project saved at /mnt/hgfs/trace_key_1500/key_145.cwp\n"
     ]
    },
    {
     "name": "stderr",
     "output_type": "stream",
     "text": [
      "Capturing traces key=146: 100%|██████████████████████████████████████████████████████████████████████████████████████████████████████████| 8500/8500 [08:50<00:00, 16.02it/s]\n"
     ]
    },
    {
     "name": "stdout",
     "output_type": "stream",
     "text": [
      "firstKey= 146\n",
      "project saved at /mnt/hgfs/trace_key_1500/key_146.cwp\n"
     ]
    },
    {
     "name": "stderr",
     "output_type": "stream",
     "text": [
      "Capturing traces key=147: 100%|██████████████████████████████████████████████████████████████████████████████████████████████████████████| 8500/8500 [08:50<00:00, 16.02it/s]\n"
     ]
    },
    {
     "name": "stdout",
     "output_type": "stream",
     "text": [
      "firstKey= 147\n",
      "project saved at /mnt/hgfs/trace_key_1500/key_147.cwp\n"
     ]
    },
    {
     "name": "stderr",
     "output_type": "stream",
     "text": [
      "Capturing traces key=148: 100%|██████████████████████████████████████████████████████████████████████████████████████████████████████████| 8500/8500 [08:51<00:00, 16.00it/s]\n"
     ]
    },
    {
     "name": "stdout",
     "output_type": "stream",
     "text": [
      "firstKey= 148\n",
      "project saved at /mnt/hgfs/trace_key_1500/key_148.cwp\n"
     ]
    },
    {
     "name": "stderr",
     "output_type": "stream",
     "text": [
      "Capturing traces key=149: 100%|██████████████████████████████████████████████████████████████████████████████████████████████████████████| 8500/8500 [08:50<00:00, 16.01it/s]\n"
     ]
    },
    {
     "name": "stdout",
     "output_type": "stream",
     "text": [
      "firstKey= 149\n",
      "project saved at /mnt/hgfs/trace_key_1500/key_149.cwp\n"
     ]
    },
    {
     "name": "stderr",
     "output_type": "stream",
     "text": [
      "Capturing traces key=150: 100%|██████████████████████████████████████████████████████████████████████████████████████████████████████████| 8500/8500 [08:50<00:00, 16.02it/s]\n"
     ]
    },
    {
     "name": "stdout",
     "output_type": "stream",
     "text": [
      "firstKey= 150\n",
      "project saved at /mnt/hgfs/trace_key_1500/key_150.cwp\n"
     ]
    },
    {
     "name": "stderr",
     "output_type": "stream",
     "text": [
      "Capturing traces key=151: 100%|██████████████████████████████████████████████████████████████████████████████████████████████████████████| 8500/8500 [08:50<00:00, 16.03it/s]\n"
     ]
    },
    {
     "name": "stdout",
     "output_type": "stream",
     "text": [
      "firstKey= 151\n",
      "project saved at /mnt/hgfs/trace_key_1500/key_151.cwp\n"
     ]
    },
    {
     "name": "stderr",
     "output_type": "stream",
     "text": [
      "Capturing traces key=152: 100%|██████████████████████████████████████████████████████████████████████████████████████████████████████████| 8500/8500 [08:50<00:00, 16.03it/s]\n"
     ]
    },
    {
     "name": "stdout",
     "output_type": "stream",
     "text": [
      "firstKey= 152\n",
      "project saved at /mnt/hgfs/trace_key_1500/key_152.cwp\n"
     ]
    },
    {
     "name": "stderr",
     "output_type": "stream",
     "text": [
      "Capturing traces key=153: 100%|██████████████████████████████████████████████████████████████████████████████████████████████████████████| 8500/8500 [08:50<00:00, 16.03it/s]\n"
     ]
    },
    {
     "name": "stdout",
     "output_type": "stream",
     "text": [
      "firstKey= 153\n",
      "project saved at /mnt/hgfs/trace_key_1500/key_153.cwp\n"
     ]
    },
    {
     "name": "stderr",
     "output_type": "stream",
     "text": [
      "Capturing traces key=154: 100%|██████████████████████████████████████████████████████████████████████████████████████████████████████████| 8500/8500 [08:50<00:00, 16.01it/s]\n"
     ]
    },
    {
     "name": "stdout",
     "output_type": "stream",
     "text": [
      "firstKey= 154\n",
      "project saved at /mnt/hgfs/trace_key_1500/key_154.cwp\n"
     ]
    },
    {
     "name": "stderr",
     "output_type": "stream",
     "text": [
      "Capturing traces key=155: 100%|██████████████████████████████████████████████████████████████████████████████████████████████████████████| 8500/8500 [08:50<00:00, 16.01it/s]\n"
     ]
    },
    {
     "name": "stdout",
     "output_type": "stream",
     "text": [
      "firstKey= 155\n",
      "project saved at /mnt/hgfs/trace_key_1500/key_155.cwp\n"
     ]
    },
    {
     "name": "stderr",
     "output_type": "stream",
     "text": [
      "Capturing traces key=156: 100%|██████████████████████████████████████████████████████████████████████████████████████████████████████████| 8500/8500 [08:50<00:00, 16.01it/s]\n"
     ]
    },
    {
     "name": "stdout",
     "output_type": "stream",
     "text": [
      "firstKey= 156\n",
      "project saved at /mnt/hgfs/trace_key_1500/key_156.cwp\n"
     ]
    },
    {
     "name": "stderr",
     "output_type": "stream",
     "text": [
      "Capturing traces key=157: 100%|██████████████████████████████████████████████████████████████████████████████████████████████████████████| 8500/8500 [08:50<00:00, 16.02it/s]\n"
     ]
    },
    {
     "name": "stdout",
     "output_type": "stream",
     "text": [
      "firstKey= 157\n",
      "project saved at /mnt/hgfs/trace_key_1500/key_157.cwp\n"
     ]
    },
    {
     "name": "stderr",
     "output_type": "stream",
     "text": [
      "Capturing traces key=158: 100%|██████████████████████████████████████████████████████████████████████████████████████████████████████████| 8500/8500 [08:51<00:00, 16.01it/s]\n"
     ]
    },
    {
     "name": "stdout",
     "output_type": "stream",
     "text": [
      "firstKey= 158\n",
      "project saved at /mnt/hgfs/trace_key_1500/key_158.cwp\n"
     ]
    },
    {
     "name": "stderr",
     "output_type": "stream",
     "text": [
      "Capturing traces key=159: 100%|██████████████████████████████████████████████████████████████████████████████████████████████████████████| 8500/8500 [08:50<00:00, 16.01it/s]\n"
     ]
    },
    {
     "name": "stdout",
     "output_type": "stream",
     "text": [
      "firstKey= 159\n",
      "project saved at /mnt/hgfs/trace_key_1500/key_159.cwp\n"
     ]
    },
    {
     "name": "stderr",
     "output_type": "stream",
     "text": [
      "Capturing traces key=160: 100%|██████████████████████████████████████████████████████████████████████████████████████████████████████████| 8500/8500 [08:50<00:00, 16.02it/s]\n"
     ]
    },
    {
     "name": "stdout",
     "output_type": "stream",
     "text": [
      "firstKey= 160\n",
      "project saved at /mnt/hgfs/trace_key_1500/key_160.cwp\n"
     ]
    },
    {
     "name": "stderr",
     "output_type": "stream",
     "text": [
      "Capturing traces key=161: 100%|██████████████████████████████████████████████████████████████████████████████████████████████████████████| 8500/8500 [08:50<00:00, 16.02it/s]\n"
     ]
    },
    {
     "name": "stdout",
     "output_type": "stream",
     "text": [
      "firstKey= 161\n",
      "project saved at /mnt/hgfs/trace_key_1500/key_161.cwp\n"
     ]
    },
    {
     "name": "stderr",
     "output_type": "stream",
     "text": [
      "Capturing traces key=162: 100%|██████████████████████████████████████████████████████████████████████████████████████████████████████████| 8500/8500 [08:50<00:00, 16.02it/s]\n"
     ]
    },
    {
     "name": "stdout",
     "output_type": "stream",
     "text": [
      "firstKey= 162\n",
      "project saved at /mnt/hgfs/trace_key_1500/key_162.cwp\n"
     ]
    },
    {
     "name": "stderr",
     "output_type": "stream",
     "text": [
      "Capturing traces key=163: 100%|██████████████████████████████████████████████████████████████████████████████████████████████████████████| 8500/8500 [08:50<00:00, 16.01it/s]\n"
     ]
    },
    {
     "name": "stdout",
     "output_type": "stream",
     "text": [
      "firstKey= 163\n",
      "project saved at /mnt/hgfs/trace_key_1500/key_163.cwp\n"
     ]
    },
    {
     "name": "stderr",
     "output_type": "stream",
     "text": [
      "Capturing traces key=164: 100%|██████████████████████████████████████████████████████████████████████████████████████████████████████████| 8500/8500 [08:50<00:00, 16.02it/s]\n"
     ]
    },
    {
     "name": "stdout",
     "output_type": "stream",
     "text": [
      "firstKey= 164\n",
      "project saved at /mnt/hgfs/trace_key_1500/key_164.cwp\n"
     ]
    },
    {
     "name": "stderr",
     "output_type": "stream",
     "text": [
      "Capturing traces key=165: 100%|██████████████████████████████████████████████████████████████████████████████████████████████████████████| 8500/8500 [08:50<00:00, 16.02it/s]\n"
     ]
    },
    {
     "name": "stdout",
     "output_type": "stream",
     "text": [
      "firstKey= 165\n",
      "project saved at /mnt/hgfs/trace_key_1500/key_165.cwp\n"
     ]
    },
    {
     "name": "stderr",
     "output_type": "stream",
     "text": [
      "Capturing traces key=166: 100%|██████████████████████████████████████████████████████████████████████████████████████████████████████████| 8500/8500 [08:50<00:00, 16.01it/s]\n"
     ]
    },
    {
     "name": "stdout",
     "output_type": "stream",
     "text": [
      "firstKey= 166\n",
      "project saved at /mnt/hgfs/trace_key_1500/key_166.cwp\n"
     ]
    },
    {
     "name": "stderr",
     "output_type": "stream",
     "text": [
      "Capturing traces key=167: 100%|██████████████████████████████████████████████████████████████████████████████████████████████████████████| 8500/8500 [08:50<00:00, 16.02it/s]\n"
     ]
    },
    {
     "name": "stdout",
     "output_type": "stream",
     "text": [
      "firstKey= 167\n",
      "project saved at /mnt/hgfs/trace_key_1500/key_167.cwp\n"
     ]
    },
    {
     "name": "stderr",
     "output_type": "stream",
     "text": [
      "Capturing traces key=168: 100%|██████████████████████████████████████████████████████████████████████████████████████████████████████████| 8500/8500 [08:50<00:00, 16.02it/s]\n"
     ]
    },
    {
     "name": "stdout",
     "output_type": "stream",
     "text": [
      "firstKey= 168\n",
      "project saved at /mnt/hgfs/trace_key_1500/key_168.cwp\n"
     ]
    },
    {
     "name": "stderr",
     "output_type": "stream",
     "text": [
      "Capturing traces key=169: 100%|██████████████████████████████████████████████████████████████████████████████████████████████████████████| 8500/8500 [08:50<00:00, 16.02it/s]\n"
     ]
    },
    {
     "name": "stdout",
     "output_type": "stream",
     "text": [
      "firstKey= 169\n",
      "project saved at /mnt/hgfs/trace_key_1500/key_169.cwp\n"
     ]
    },
    {
     "name": "stderr",
     "output_type": "stream",
     "text": [
      "Capturing traces key=170: 100%|██████████████████████████████████████████████████████████████████████████████████████████████████████████| 8500/8500 [08:50<00:00, 16.01it/s]\n"
     ]
    },
    {
     "name": "stdout",
     "output_type": "stream",
     "text": [
      "firstKey= 170\n",
      "project saved at /mnt/hgfs/trace_key_1500/key_170.cwp\n"
     ]
    },
    {
     "name": "stderr",
     "output_type": "stream",
     "text": [
      "Capturing traces key=171: 100%|██████████████████████████████████████████████████████████████████████████████████████████████████████████| 8500/8500 [08:50<00:00, 16.02it/s]\n"
     ]
    },
    {
     "name": "stdout",
     "output_type": "stream",
     "text": [
      "firstKey= 171\n",
      "project saved at /mnt/hgfs/trace_key_1500/key_171.cwp\n"
     ]
    },
    {
     "name": "stderr",
     "output_type": "stream",
     "text": [
      "Capturing traces key=172: 100%|██████████████████████████████████████████████████████████████████████████████████████████████████████████| 8500/8500 [08:50<00:00, 16.02it/s]\n"
     ]
    },
    {
     "name": "stdout",
     "output_type": "stream",
     "text": [
      "firstKey= 172\n",
      "project saved at /mnt/hgfs/trace_key_1500/key_172.cwp\n"
     ]
    },
    {
     "name": "stderr",
     "output_type": "stream",
     "text": [
      "Capturing traces key=173: 100%|██████████████████████████████████████████████████████████████████████████████████████████████████████████| 8500/8500 [08:50<00:00, 16.02it/s]\n"
     ]
    },
    {
     "name": "stdout",
     "output_type": "stream",
     "text": [
      "firstKey= 173\n",
      "project saved at /mnt/hgfs/trace_key_1500/key_173.cwp\n"
     ]
    },
    {
     "name": "stderr",
     "output_type": "stream",
     "text": [
      "Capturing traces key=174: 100%|██████████████████████████████████████████████████████████████████████████████████████████████████████████| 8500/8500 [08:50<00:00, 16.01it/s]\n"
     ]
    },
    {
     "name": "stdout",
     "output_type": "stream",
     "text": [
      "firstKey= 174\n",
      "project saved at /mnt/hgfs/trace_key_1500/key_174.cwp\n"
     ]
    },
    {
     "name": "stderr",
     "output_type": "stream",
     "text": [
      "Capturing traces key=175: 100%|██████████████████████████████████████████████████████████████████████████████████████████████████████████| 8500/8500 [08:51<00:00, 16.01it/s]\n"
     ]
    },
    {
     "name": "stdout",
     "output_type": "stream",
     "text": [
      "firstKey= 175\n",
      "project saved at /mnt/hgfs/trace_key_1500/key_175.cwp\n"
     ]
    },
    {
     "name": "stderr",
     "output_type": "stream",
     "text": [
      "Capturing traces key=176: 100%|██████████████████████████████████████████████████████████████████████████████████████████████████████████| 8500/8500 [08:50<00:00, 16.02it/s]\n"
     ]
    },
    {
     "name": "stdout",
     "output_type": "stream",
     "text": [
      "firstKey= 176\n",
      "project saved at /mnt/hgfs/trace_key_1500/key_176.cwp\n"
     ]
    },
    {
     "name": "stderr",
     "output_type": "stream",
     "text": [
      "Capturing traces key=177: 100%|██████████████████████████████████████████████████████████████████████████████████████████████████████████| 8500/8500 [08:51<00:00, 16.01it/s]\n"
     ]
    },
    {
     "name": "stdout",
     "output_type": "stream",
     "text": [
      "firstKey= 177\n",
      "project saved at /mnt/hgfs/trace_key_1500/key_177.cwp\n"
     ]
    },
    {
     "name": "stderr",
     "output_type": "stream",
     "text": [
      "Capturing traces key=178: 100%|██████████████████████████████████████████████████████████████████████████████████████████████████████████| 8500/8500 [08:51<00:00, 16.00it/s]\n"
     ]
    },
    {
     "name": "stdout",
     "output_type": "stream",
     "text": [
      "firstKey= 178\n",
      "project saved at /mnt/hgfs/trace_key_1500/key_178.cwp\n"
     ]
    },
    {
     "name": "stderr",
     "output_type": "stream",
     "text": [
      "Capturing traces key=179: 100%|██████████████████████████████████████████████████████████████████████████████████████████████████████████| 8500/8500 [08:50<00:00, 16.01it/s]\n"
     ]
    },
    {
     "name": "stdout",
     "output_type": "stream",
     "text": [
      "firstKey= 179\n",
      "project saved at /mnt/hgfs/trace_key_1500/key_179.cwp\n"
     ]
    },
    {
     "name": "stderr",
     "output_type": "stream",
     "text": [
      "Capturing traces key=180: 100%|██████████████████████████████████████████████████████████████████████████████████████████████████████████| 8500/8500 [08:50<00:00, 16.01it/s]\n"
     ]
    },
    {
     "name": "stdout",
     "output_type": "stream",
     "text": [
      "firstKey= 180\n",
      "project saved at /mnt/hgfs/trace_key_1500/key_180.cwp\n"
     ]
    },
    {
     "name": "stderr",
     "output_type": "stream",
     "text": [
      "Capturing traces key=181: 100%|██████████████████████████████████████████████████████████████████████████████████████████████████████████| 8500/8500 [08:50<00:00, 16.01it/s]\n"
     ]
    },
    {
     "name": "stdout",
     "output_type": "stream",
     "text": [
      "firstKey= 181\n",
      "project saved at /mnt/hgfs/trace_key_1500/key_181.cwp\n"
     ]
    },
    {
     "name": "stderr",
     "output_type": "stream",
     "text": [
      "Capturing traces key=182: 100%|██████████████████████████████████████████████████████████████████████████████████████████████████████████| 8500/8500 [08:50<00:00, 16.02it/s]\n"
     ]
    },
    {
     "name": "stdout",
     "output_type": "stream",
     "text": [
      "firstKey= 182\n",
      "project saved at /mnt/hgfs/trace_key_1500/key_182.cwp\n"
     ]
    },
    {
     "name": "stderr",
     "output_type": "stream",
     "text": [
      "Capturing traces key=183: 100%|██████████████████████████████████████████████████████████████████████████████████████████████████████████| 8500/8500 [08:50<00:00, 16.02it/s]\n"
     ]
    },
    {
     "name": "stdout",
     "output_type": "stream",
     "text": [
      "firstKey= 183\n",
      "project saved at /mnt/hgfs/trace_key_1500/key_183.cwp\n"
     ]
    },
    {
     "name": "stderr",
     "output_type": "stream",
     "text": [
      "Capturing traces key=184: 100%|██████████████████████████████████████████████████████████████████████████████████████████████████████████| 8500/8500 [08:50<00:00, 16.02it/s]\n"
     ]
    },
    {
     "name": "stdout",
     "output_type": "stream",
     "text": [
      "firstKey= 184\n",
      "project saved at /mnt/hgfs/trace_key_1500/key_184.cwp\n"
     ]
    },
    {
     "name": "stderr",
     "output_type": "stream",
     "text": [
      "Capturing traces key=185: 100%|██████████████████████████████████████████████████████████████████████████████████████████████████████████| 8500/8500 [08:50<00:00, 16.02it/s]\n"
     ]
    },
    {
     "name": "stdout",
     "output_type": "stream",
     "text": [
      "firstKey= 185\n",
      "project saved at /mnt/hgfs/trace_key_1500/key_185.cwp\n"
     ]
    },
    {
     "name": "stderr",
     "output_type": "stream",
     "text": [
      "Capturing traces key=186: 100%|██████████████████████████████████████████████████████████████████████████████████████████████████████████| 8500/8500 [08:51<00:00, 16.01it/s]\n"
     ]
    },
    {
     "name": "stdout",
     "output_type": "stream",
     "text": [
      "firstKey= 186\n",
      "project saved at /mnt/hgfs/trace_key_1500/key_186.cwp\n"
     ]
    },
    {
     "name": "stderr",
     "output_type": "stream",
     "text": [
      "Capturing traces key=187: 100%|██████████████████████████████████████████████████████████████████████████████████████████████████████████| 8500/8500 [08:50<00:00, 16.02it/s]\n"
     ]
    },
    {
     "name": "stdout",
     "output_type": "stream",
     "text": [
      "firstKey= 187\n",
      "project saved at /mnt/hgfs/trace_key_1500/key_187.cwp\n"
     ]
    },
    {
     "name": "stderr",
     "output_type": "stream",
     "text": [
      "Capturing traces key=188: 100%|██████████████████████████████████████████████████████████████████████████████████████████████████████████| 8500/8500 [08:50<00:00, 16.02it/s]\n"
     ]
    },
    {
     "name": "stdout",
     "output_type": "stream",
     "text": [
      "firstKey= 188\n",
      "project saved at /mnt/hgfs/trace_key_1500/key_188.cwp\n"
     ]
    },
    {
     "name": "stderr",
     "output_type": "stream",
     "text": [
      "Capturing traces key=189: 100%|██████████████████████████████████████████████████████████████████████████████████████████████████████████| 8500/8500 [08:50<00:00, 16.01it/s]\n"
     ]
    },
    {
     "name": "stdout",
     "output_type": "stream",
     "text": [
      "firstKey= 189\n",
      "project saved at /mnt/hgfs/trace_key_1500/key_189.cwp\n"
     ]
    },
    {
     "name": "stderr",
     "output_type": "stream",
     "text": [
      "Capturing traces key=190: 100%|██████████████████████████████████████████████████████████████████████████████████████████████████████████| 8500/8500 [08:50<00:00, 16.02it/s]\n"
     ]
    },
    {
     "name": "stdout",
     "output_type": "stream",
     "text": [
      "firstKey= 190\n",
      "project saved at /mnt/hgfs/trace_key_1500/key_190.cwp\n"
     ]
    },
    {
     "name": "stderr",
     "output_type": "stream",
     "text": [
      "Capturing traces key=191: 100%|██████████████████████████████████████████████████████████████████████████████████████████████████████████| 8500/8500 [08:50<00:00, 16.01it/s]\n"
     ]
    },
    {
     "name": "stdout",
     "output_type": "stream",
     "text": [
      "firstKey= 191\n",
      "project saved at /mnt/hgfs/trace_key_1500/key_191.cwp\n"
     ]
    },
    {
     "name": "stderr",
     "output_type": "stream",
     "text": [
      "Capturing traces key=192: 100%|██████████████████████████████████████████████████████████████████████████████████████████████████████████| 8500/8500 [08:50<00:00, 16.02it/s]\n"
     ]
    },
    {
     "name": "stdout",
     "output_type": "stream",
     "text": [
      "firstKey= 192\n",
      "project saved at /mnt/hgfs/trace_key_1500/key_192.cwp\n"
     ]
    },
    {
     "name": "stderr",
     "output_type": "stream",
     "text": [
      "Capturing traces key=193: 100%|██████████████████████████████████████████████████████████████████████████████████████████████████████████| 8500/8500 [08:50<00:00, 16.02it/s]\n"
     ]
    },
    {
     "name": "stdout",
     "output_type": "stream",
     "text": [
      "firstKey= 193\n",
      "project saved at /mnt/hgfs/trace_key_1500/key_193.cwp\n"
     ]
    },
    {
     "name": "stderr",
     "output_type": "stream",
     "text": [
      "Capturing traces key=194: 100%|██████████████████████████████████████████████████████████████████████████████████████████████████████████| 8500/8500 [08:50<00:00, 16.01it/s]\n"
     ]
    },
    {
     "name": "stdout",
     "output_type": "stream",
     "text": [
      "firstKey= 194\n",
      "project saved at /mnt/hgfs/trace_key_1500/key_194.cwp\n"
     ]
    },
    {
     "name": "stderr",
     "output_type": "stream",
     "text": [
      "Capturing traces key=195: 100%|██████████████████████████████████████████████████████████████████████████████████████████████████████████| 8500/8500 [08:51<00:00, 16.01it/s]\n"
     ]
    },
    {
     "name": "stdout",
     "output_type": "stream",
     "text": [
      "firstKey= 195\n",
      "project saved at /mnt/hgfs/trace_key_1500/key_195.cwp\n"
     ]
    },
    {
     "name": "stderr",
     "output_type": "stream",
     "text": [
      "Capturing traces key=196: 100%|██████████████████████████████████████████████████████████████████████████████████████████████████████████| 8500/8500 [08:50<00:00, 16.02it/s]\n"
     ]
    },
    {
     "name": "stdout",
     "output_type": "stream",
     "text": [
      "firstKey= 196\n",
      "project saved at /mnt/hgfs/trace_key_1500/key_196.cwp\n"
     ]
    },
    {
     "name": "stderr",
     "output_type": "stream",
     "text": [
      "Capturing traces key=197: 100%|██████████████████████████████████████████████████████████████████████████████████████████████████████████| 8500/8500 [08:50<00:00, 16.01it/s]\n"
     ]
    },
    {
     "name": "stdout",
     "output_type": "stream",
     "text": [
      "firstKey= 197\n",
      "project saved at /mnt/hgfs/trace_key_1500/key_197.cwp\n"
     ]
    },
    {
     "name": "stderr",
     "output_type": "stream",
     "text": [
      "Capturing traces key=198: 100%|██████████████████████████████████████████████████████████████████████████████████████████████████████████| 8500/8500 [08:50<00:00, 16.02it/s]\n"
     ]
    },
    {
     "name": "stdout",
     "output_type": "stream",
     "text": [
      "firstKey= 198\n",
      "project saved at /mnt/hgfs/trace_key_1500/key_198.cwp\n"
     ]
    },
    {
     "name": "stderr",
     "output_type": "stream",
     "text": [
      "Capturing traces key=199: 100%|██████████████████████████████████████████████████████████████████████████████████████████████████████████| 8500/8500 [08:50<00:00, 16.01it/s]\n"
     ]
    },
    {
     "name": "stdout",
     "output_type": "stream",
     "text": [
      "firstKey= 199\n",
      "project saved at /mnt/hgfs/trace_key_1500/key_199.cwp\n"
     ]
    },
    {
     "name": "stderr",
     "output_type": "stream",
     "text": [
      "Capturing traces key=200: 100%|██████████████████████████████████████████████████████████████████████████████████████████████████████████| 8500/8500 [08:50<00:00, 16.01it/s]\n"
     ]
    },
    {
     "name": "stdout",
     "output_type": "stream",
     "text": [
      "firstKey= 200\n",
      "project saved at /mnt/hgfs/trace_key_1500/key_200.cwp\n"
     ]
    },
    {
     "name": "stderr",
     "output_type": "stream",
     "text": [
      "Capturing traces key=201: 100%|██████████████████████████████████████████████████████████████████████████████████████████████████████████| 8500/8500 [08:50<00:00, 16.01it/s]\n"
     ]
    },
    {
     "name": "stdout",
     "output_type": "stream",
     "text": [
      "firstKey= 201\n",
      "project saved at /mnt/hgfs/trace_key_1500/key_201.cwp\n"
     ]
    },
    {
     "name": "stderr",
     "output_type": "stream",
     "text": [
      "Capturing traces key=202: 100%|██████████████████████████████████████████████████████████████████████████████████████████████████████████| 8500/8500 [08:50<00:00, 16.02it/s]\n"
     ]
    },
    {
     "name": "stdout",
     "output_type": "stream",
     "text": [
      "firstKey= 202\n",
      "project saved at /mnt/hgfs/trace_key_1500/key_202.cwp\n"
     ]
    },
    {
     "name": "stderr",
     "output_type": "stream",
     "text": [
      "Capturing traces key=203: 100%|██████████████████████████████████████████████████████████████████████████████████████████████████████████| 8500/8500 [08:50<00:00, 16.02it/s]\n"
     ]
    },
    {
     "name": "stdout",
     "output_type": "stream",
     "text": [
      "firstKey= 203\n",
      "project saved at /mnt/hgfs/trace_key_1500/key_203.cwp\n"
     ]
    },
    {
     "name": "stderr",
     "output_type": "stream",
     "text": [
      "Capturing traces key=204: 100%|██████████████████████████████████████████████████████████████████████████████████████████████████████████| 8500/8500 [08:51<00:00, 16.00it/s]\n"
     ]
    },
    {
     "name": "stdout",
     "output_type": "stream",
     "text": [
      "firstKey= 204\n",
      "project saved at /mnt/hgfs/trace_key_1500/key_204.cwp\n"
     ]
    },
    {
     "name": "stderr",
     "output_type": "stream",
     "text": [
      "Capturing traces key=205: 100%|██████████████████████████████████████████████████████████████████████████████████████████████████████████| 8500/8500 [08:50<00:00, 16.01it/s]\n"
     ]
    },
    {
     "name": "stdout",
     "output_type": "stream",
     "text": [
      "firstKey= 205\n",
      "project saved at /mnt/hgfs/trace_key_1500/key_205.cwp\n"
     ]
    },
    {
     "name": "stderr",
     "output_type": "stream",
     "text": [
      "Capturing traces key=206: 100%|██████████████████████████████████████████████████████████████████████████████████████████████████████████| 8500/8500 [08:50<00:00, 16.02it/s]\n"
     ]
    },
    {
     "name": "stdout",
     "output_type": "stream",
     "text": [
      "firstKey= 206\n",
      "project saved at /mnt/hgfs/trace_key_1500/key_206.cwp\n"
     ]
    },
    {
     "name": "stderr",
     "output_type": "stream",
     "text": [
      "Capturing traces key=207: 100%|██████████████████████████████████████████████████████████████████████████████████████████████████████████| 8500/8500 [08:50<00:00, 16.02it/s]\n"
     ]
    },
    {
     "name": "stdout",
     "output_type": "stream",
     "text": [
      "firstKey= 207\n",
      "project saved at /mnt/hgfs/trace_key_1500/key_207.cwp\n"
     ]
    },
    {
     "name": "stderr",
     "output_type": "stream",
     "text": [
      "Capturing traces key=208: 100%|██████████████████████████████████████████████████████████████████████████████████████████████████████████| 8500/8500 [08:51<00:00, 16.00it/s]\n"
     ]
    },
    {
     "name": "stdout",
     "output_type": "stream",
     "text": [
      "firstKey= 208\n",
      "project saved at /mnt/hgfs/trace_key_1500/key_208.cwp\n"
     ]
    },
    {
     "name": "stderr",
     "output_type": "stream",
     "text": [
      "Capturing traces key=209: 100%|██████████████████████████████████████████████████████████████████████████████████████████████████████████| 8500/8500 [08:50<00:00, 16.02it/s]\n"
     ]
    },
    {
     "name": "stdout",
     "output_type": "stream",
     "text": [
      "firstKey= 209\n",
      "project saved at /mnt/hgfs/trace_key_1500/key_209.cwp\n"
     ]
    },
    {
     "name": "stderr",
     "output_type": "stream",
     "text": [
      "Capturing traces key=210: 100%|██████████████████████████████████████████████████████████████████████████████████████████████████████████| 8500/8500 [08:50<00:00, 16.01it/s]\n"
     ]
    },
    {
     "name": "stdout",
     "output_type": "stream",
     "text": [
      "firstKey= 210\n",
      "project saved at /mnt/hgfs/trace_key_1500/key_210.cwp\n"
     ]
    },
    {
     "name": "stderr",
     "output_type": "stream",
     "text": [
      "Capturing traces key=211: 100%|██████████████████████████████████████████████████████████████████████████████████████████████████████████| 8500/8500 [08:50<00:00, 16.02it/s]\n"
     ]
    },
    {
     "name": "stdout",
     "output_type": "stream",
     "text": [
      "firstKey= 211\n",
      "project saved at /mnt/hgfs/trace_key_1500/key_211.cwp\n"
     ]
    },
    {
     "name": "stderr",
     "output_type": "stream",
     "text": [
      "Capturing traces key=212: 100%|██████████████████████████████████████████████████████████████████████████████████████████████████████████| 8500/8500 [08:50<00:00, 16.01it/s]\n"
     ]
    },
    {
     "name": "stdout",
     "output_type": "stream",
     "text": [
      "firstKey= 212\n",
      "project saved at /mnt/hgfs/trace_key_1500/key_212.cwp\n"
     ]
    },
    {
     "name": "stderr",
     "output_type": "stream",
     "text": [
      "Capturing traces key=213: 100%|██████████████████████████████████████████████████████████████████████████████████████████████████████████| 8500/8500 [08:50<00:00, 16.01it/s]\n"
     ]
    },
    {
     "name": "stdout",
     "output_type": "stream",
     "text": [
      "firstKey= 213\n",
      "project saved at /mnt/hgfs/trace_key_1500/key_213.cwp\n"
     ]
    },
    {
     "name": "stderr",
     "output_type": "stream",
     "text": [
      "Capturing traces key=214: 100%|██████████████████████████████████████████████████████████████████████████████████████████████████████████| 8500/8500 [08:50<00:00, 16.02it/s]\n"
     ]
    },
    {
     "name": "stdout",
     "output_type": "stream",
     "text": [
      "firstKey= 214\n",
      "project saved at /mnt/hgfs/trace_key_1500/key_214.cwp\n"
     ]
    },
    {
     "name": "stderr",
     "output_type": "stream",
     "text": [
      "Capturing traces key=215: 100%|██████████████████████████████████████████████████████████████████████████████████████████████████████████| 8500/8500 [08:50<00:00, 16.01it/s]\n"
     ]
    },
    {
     "name": "stdout",
     "output_type": "stream",
     "text": [
      "firstKey= 215\n",
      "project saved at /mnt/hgfs/trace_key_1500/key_215.cwp\n"
     ]
    },
    {
     "name": "stderr",
     "output_type": "stream",
     "text": [
      "Capturing traces key=216: 100%|██████████████████████████████████████████████████████████████████████████████████████████████████████████| 8500/8500 [08:50<00:00, 16.02it/s]\n"
     ]
    },
    {
     "name": "stdout",
     "output_type": "stream",
     "text": [
      "firstKey= 216\n",
      "project saved at /mnt/hgfs/trace_key_1500/key_216.cwp\n"
     ]
    },
    {
     "name": "stderr",
     "output_type": "stream",
     "text": [
      "Capturing traces key=217: 100%|██████████████████████████████████████████████████████████████████████████████████████████████████████████| 8500/8500 [08:50<00:00, 16.02it/s]\n"
     ]
    },
    {
     "name": "stdout",
     "output_type": "stream",
     "text": [
      "firstKey= 217\n",
      "project saved at /mnt/hgfs/trace_key_1500/key_217.cwp\n"
     ]
    },
    {
     "name": "stderr",
     "output_type": "stream",
     "text": [
      "Capturing traces key=218: 100%|██████████████████████████████████████████████████████████████████████████████████████████████████████████| 8500/8500 [08:50<00:00, 16.01it/s]\n"
     ]
    },
    {
     "name": "stdout",
     "output_type": "stream",
     "text": [
      "firstKey= 218\n",
      "project saved at /mnt/hgfs/trace_key_1500/key_218.cwp\n"
     ]
    },
    {
     "name": "stderr",
     "output_type": "stream",
     "text": [
      "Capturing traces key=219: 100%|██████████████████████████████████████████████████████████████████████████████████████████████████████████| 8500/8500 [08:50<00:00, 16.01it/s]\n"
     ]
    },
    {
     "name": "stdout",
     "output_type": "stream",
     "text": [
      "firstKey= 219\n",
      "project saved at /mnt/hgfs/trace_key_1500/key_219.cwp\n"
     ]
    },
    {
     "name": "stderr",
     "output_type": "stream",
     "text": [
      "Capturing traces key=220: 100%|██████████████████████████████████████████████████████████████████████████████████████████████████████████| 8500/8500 [08:51<00:00, 16.00it/s]\n"
     ]
    },
    {
     "name": "stdout",
     "output_type": "stream",
     "text": [
      "firstKey= 220\n",
      "project saved at /mnt/hgfs/trace_key_1500/key_220.cwp\n"
     ]
    },
    {
     "name": "stderr",
     "output_type": "stream",
     "text": [
      "Capturing traces key=221: 100%|██████████████████████████████████████████████████████████████████████████████████████████████████████████| 8500/8500 [08:50<00:00, 16.02it/s]\n"
     ]
    },
    {
     "name": "stdout",
     "output_type": "stream",
     "text": [
      "firstKey= 221\n",
      "project saved at /mnt/hgfs/trace_key_1500/key_221.cwp\n"
     ]
    },
    {
     "name": "stderr",
     "output_type": "stream",
     "text": [
      "Capturing traces key=222: 100%|██████████████████████████████████████████████████████████████████████████████████████████████████████████| 8500/8500 [08:50<00:00, 16.02it/s]\n"
     ]
    },
    {
     "name": "stdout",
     "output_type": "stream",
     "text": [
      "firstKey= 222\n",
      "project saved at /mnt/hgfs/trace_key_1500/key_222.cwp\n"
     ]
    },
    {
     "name": "stderr",
     "output_type": "stream",
     "text": [
      "Capturing traces key=223: 100%|██████████████████████████████████████████████████████████████████████████████████████████████████████████| 8500/8500 [08:50<00:00, 16.01it/s]\n"
     ]
    },
    {
     "name": "stdout",
     "output_type": "stream",
     "text": [
      "firstKey= 223\n",
      "project saved at /mnt/hgfs/trace_key_1500/key_223.cwp\n"
     ]
    },
    {
     "name": "stderr",
     "output_type": "stream",
     "text": [
      "Capturing traces key=224: 100%|██████████████████████████████████████████████████████████████████████████████████████████████████████████| 8500/8500 [08:50<00:00, 16.01it/s]\n"
     ]
    },
    {
     "name": "stdout",
     "output_type": "stream",
     "text": [
      "firstKey= 224\n",
      "project saved at /mnt/hgfs/trace_key_1500/key_224.cwp\n"
     ]
    },
    {
     "name": "stderr",
     "output_type": "stream",
     "text": [
      "Capturing traces key=225: 100%|██████████████████████████████████████████████████████████████████████████████████████████████████████████| 8500/8500 [08:51<00:00, 16.00it/s]\n"
     ]
    },
    {
     "name": "stdout",
     "output_type": "stream",
     "text": [
      "firstKey= 225\n",
      "project saved at /mnt/hgfs/trace_key_1500/key_225.cwp\n"
     ]
    },
    {
     "name": "stderr",
     "output_type": "stream",
     "text": [
      "Capturing traces key=226: 100%|██████████████████████████████████████████████████████████████████████████████████████████████████████████| 8500/8500 [08:50<00:00, 16.02it/s]\n"
     ]
    },
    {
     "name": "stdout",
     "output_type": "stream",
     "text": [
      "firstKey= 226\n",
      "project saved at /mnt/hgfs/trace_key_1500/key_226.cwp\n"
     ]
    },
    {
     "name": "stderr",
     "output_type": "stream",
     "text": [
      "Capturing traces key=227: 100%|██████████████████████████████████████████████████████████████████████████████████████████████████████████| 8500/8500 [08:50<00:00, 16.02it/s]\n"
     ]
    },
    {
     "name": "stdout",
     "output_type": "stream",
     "text": [
      "firstKey= 227\n",
      "project saved at /mnt/hgfs/trace_key_1500/key_227.cwp\n"
     ]
    },
    {
     "name": "stderr",
     "output_type": "stream",
     "text": [
      "Capturing traces key=228: 100%|██████████████████████████████████████████████████████████████████████████████████████████████████████████| 8500/8500 [08:51<00:00, 16.00it/s]\n"
     ]
    },
    {
     "name": "stdout",
     "output_type": "stream",
     "text": [
      "firstKey= 228\n",
      "project saved at /mnt/hgfs/trace_key_1500/key_228.cwp\n"
     ]
    },
    {
     "name": "stderr",
     "output_type": "stream",
     "text": [
      "Capturing traces key=229: 100%|██████████████████████████████████████████████████████████████████████████████████████████████████████████| 8500/8500 [08:50<00:00, 16.01it/s]\n"
     ]
    },
    {
     "name": "stdout",
     "output_type": "stream",
     "text": [
      "firstKey= 229\n",
      "project saved at /mnt/hgfs/trace_key_1500/key_229.cwp\n"
     ]
    },
    {
     "name": "stderr",
     "output_type": "stream",
     "text": [
      "Capturing traces key=230: 100%|██████████████████████████████████████████████████████████████████████████████████████████████████████████| 8500/8500 [08:50<00:00, 16.01it/s]\n"
     ]
    },
    {
     "name": "stdout",
     "output_type": "stream",
     "text": [
      "firstKey= 230\n",
      "project saved at /mnt/hgfs/trace_key_1500/key_230.cwp\n"
     ]
    },
    {
     "name": "stderr",
     "output_type": "stream",
     "text": [
      "Capturing traces key=231: 100%|██████████████████████████████████████████████████████████████████████████████████████████████████████████| 8500/8500 [08:51<00:00, 16.00it/s]\n"
     ]
    },
    {
     "name": "stdout",
     "output_type": "stream",
     "text": [
      "firstKey= 231\n",
      "project saved at /mnt/hgfs/trace_key_1500/key_231.cwp\n"
     ]
    },
    {
     "name": "stderr",
     "output_type": "stream",
     "text": [
      "Capturing traces key=232: 100%|██████████████████████████████████████████████████████████████████████████████████████████████████████████| 8500/8500 [08:51<00:00, 16.00it/s]\n"
     ]
    },
    {
     "name": "stdout",
     "output_type": "stream",
     "text": [
      "firstKey= 232\n",
      "project saved at /mnt/hgfs/trace_key_1500/key_232.cwp\n"
     ]
    },
    {
     "name": "stderr",
     "output_type": "stream",
     "text": [
      "Capturing traces key=233: 100%|██████████████████████████████████████████████████████████████████████████████████████████████████████████| 8500/8500 [08:51<00:00, 16.00it/s]\n"
     ]
    },
    {
     "name": "stdout",
     "output_type": "stream",
     "text": [
      "firstKey= 233\n",
      "project saved at /mnt/hgfs/trace_key_1500/key_233.cwp\n"
     ]
    },
    {
     "name": "stderr",
     "output_type": "stream",
     "text": [
      "Capturing traces key=234: 100%|██████████████████████████████████████████████████████████████████████████████████████████████████████████| 8500/8500 [08:50<00:00, 16.02it/s]\n"
     ]
    },
    {
     "name": "stdout",
     "output_type": "stream",
     "text": [
      "firstKey= 234\n",
      "project saved at /mnt/hgfs/trace_key_1500/key_234.cwp\n"
     ]
    },
    {
     "name": "stderr",
     "output_type": "stream",
     "text": [
      "Capturing traces key=235: 100%|██████████████████████████████████████████████████████████████████████████████████████████████████████████| 8500/8500 [08:51<00:00, 16.00it/s]\n"
     ]
    },
    {
     "name": "stdout",
     "output_type": "stream",
     "text": [
      "firstKey= 235\n",
      "project saved at /mnt/hgfs/trace_key_1500/key_235.cwp\n"
     ]
    },
    {
     "name": "stderr",
     "output_type": "stream",
     "text": [
      "Capturing traces key=236: 100%|██████████████████████████████████████████████████████████████████████████████████████████████████████████| 8500/8500 [08:51<00:00, 16.01it/s]\n"
     ]
    },
    {
     "name": "stdout",
     "output_type": "stream",
     "text": [
      "firstKey= 236\n",
      "project saved at /mnt/hgfs/trace_key_1500/key_236.cwp\n"
     ]
    },
    {
     "name": "stderr",
     "output_type": "stream",
     "text": [
      "Capturing traces key=237: 100%|██████████████████████████████████████████████████████████████████████████████████████████████████████████| 8500/8500 [08:51<00:00, 16.00it/s]\n"
     ]
    },
    {
     "name": "stdout",
     "output_type": "stream",
     "text": [
      "firstKey= 237\n",
      "project saved at /mnt/hgfs/trace_key_1500/key_237.cwp\n"
     ]
    },
    {
     "name": "stderr",
     "output_type": "stream",
     "text": [
      "Capturing traces key=238: 100%|██████████████████████████████████████████████████████████████████████████████████████████████████████████| 8500/8500 [08:51<00:00, 16.00it/s]\n"
     ]
    },
    {
     "name": "stdout",
     "output_type": "stream",
     "text": [
      "firstKey= 238\n",
      "project saved at /mnt/hgfs/trace_key_1500/key_238.cwp\n"
     ]
    },
    {
     "name": "stderr",
     "output_type": "stream",
     "text": [
      "Capturing traces key=239: 100%|██████████████████████████████████████████████████████████████████████████████████████████████████████████| 8500/8500 [08:50<00:00, 16.01it/s]\n"
     ]
    },
    {
     "name": "stdout",
     "output_type": "stream",
     "text": [
      "firstKey= 239\n",
      "project saved at /mnt/hgfs/trace_key_1500/key_239.cwp\n"
     ]
    },
    {
     "name": "stderr",
     "output_type": "stream",
     "text": [
      "Capturing traces key=240: 100%|██████████████████████████████████████████████████████████████████████████████████████████████████████████| 8500/8500 [08:50<00:00, 16.02it/s]\n"
     ]
    },
    {
     "name": "stdout",
     "output_type": "stream",
     "text": [
      "firstKey= 240\n",
      "project saved at /mnt/hgfs/trace_key_1500/key_240.cwp\n"
     ]
    },
    {
     "name": "stderr",
     "output_type": "stream",
     "text": [
      "Capturing traces key=241: 100%|██████████████████████████████████████████████████████████████████████████████████████████████████████████| 8500/8500 [08:50<00:00, 16.01it/s]\n"
     ]
    },
    {
     "name": "stdout",
     "output_type": "stream",
     "text": [
      "firstKey= 241\n",
      "project saved at /mnt/hgfs/trace_key_1500/key_241.cwp\n"
     ]
    },
    {
     "name": "stderr",
     "output_type": "stream",
     "text": [
      "Capturing traces key=242: 100%|██████████████████████████████████████████████████████████████████████████████████████████████████████████| 8500/8500 [08:50<00:00, 16.02it/s]\n"
     ]
    },
    {
     "name": "stdout",
     "output_type": "stream",
     "text": [
      "firstKey= 242\n",
      "project saved at /mnt/hgfs/trace_key_1500/key_242.cwp\n"
     ]
    },
    {
     "name": "stderr",
     "output_type": "stream",
     "text": [
      "Capturing traces key=243: 100%|██████████████████████████████████████████████████████████████████████████████████████████████████████████| 8500/8500 [08:51<00:00, 16.01it/s]\n"
     ]
    },
    {
     "name": "stdout",
     "output_type": "stream",
     "text": [
      "firstKey= 243\n",
      "project saved at /mnt/hgfs/trace_key_1500/key_243.cwp\n"
     ]
    },
    {
     "name": "stderr",
     "output_type": "stream",
     "text": [
      "Capturing traces key=244: 100%|██████████████████████████████████████████████████████████████████████████████████████████████████████████| 8500/8500 [08:50<00:00, 16.02it/s]\n"
     ]
    },
    {
     "name": "stdout",
     "output_type": "stream",
     "text": [
      "firstKey= 244\n",
      "project saved at /mnt/hgfs/trace_key_1500/key_244.cwp\n"
     ]
    },
    {
     "name": "stderr",
     "output_type": "stream",
     "text": [
      "Capturing traces key=245: 100%|██████████████████████████████████████████████████████████████████████████████████████████████████████████| 8500/8500 [08:50<00:00, 16.01it/s]\n"
     ]
    },
    {
     "name": "stdout",
     "output_type": "stream",
     "text": [
      "firstKey= 245\n",
      "project saved at /mnt/hgfs/trace_key_1500/key_245.cwp\n"
     ]
    },
    {
     "name": "stderr",
     "output_type": "stream",
     "text": [
      "Capturing traces key=246: 100%|██████████████████████████████████████████████████████████████████████████████████████████████████████████| 8500/8500 [08:51<00:00, 16.00it/s]\n"
     ]
    },
    {
     "name": "stdout",
     "output_type": "stream",
     "text": [
      "firstKey= 246\n",
      "project saved at /mnt/hgfs/trace_key_1500/key_246.cwp\n"
     ]
    },
    {
     "name": "stderr",
     "output_type": "stream",
     "text": [
      "Capturing traces key=247: 100%|██████████████████████████████████████████████████████████████████████████████████████████████████████████| 8500/8500 [08:51<00:00, 16.00it/s]\n"
     ]
    },
    {
     "name": "stdout",
     "output_type": "stream",
     "text": [
      "firstKey= 247\n",
      "project saved at /mnt/hgfs/trace_key_1500/key_247.cwp\n"
     ]
    },
    {
     "name": "stderr",
     "output_type": "stream",
     "text": [
      "Capturing traces key=248: 100%|██████████████████████████████████████████████████████████████████████████████████████████████████████████| 8500/8500 [08:51<00:00, 16.00it/s]\n"
     ]
    },
    {
     "name": "stdout",
     "output_type": "stream",
     "text": [
      "firstKey= 248\n",
      "project saved at /mnt/hgfs/trace_key_1500/key_248.cwp\n"
     ]
    },
    {
     "name": "stderr",
     "output_type": "stream",
     "text": [
      "Capturing traces key=249: 100%|██████████████████████████████████████████████████████████████████████████████████████████████████████████| 8500/8500 [08:50<00:00, 16.01it/s]\n"
     ]
    },
    {
     "name": "stdout",
     "output_type": "stream",
     "text": [
      "firstKey= 249\n",
      "project saved at /mnt/hgfs/trace_key_1500/key_249.cwp\n"
     ]
    },
    {
     "name": "stderr",
     "output_type": "stream",
     "text": [
      "Capturing traces key=250: 100%|██████████████████████████████████████████████████████████████████████████████████████████████████████████| 8500/8500 [08:50<00:00, 16.02it/s]\n"
     ]
    },
    {
     "name": "stdout",
     "output_type": "stream",
     "text": [
      "firstKey= 250\n",
      "project saved at /mnt/hgfs/trace_key_1500/key_250.cwp\n"
     ]
    },
    {
     "name": "stderr",
     "output_type": "stream",
     "text": [
      "Capturing traces key=251: 100%|██████████████████████████████████████████████████████████████████████████████████████████████████████████| 8500/8500 [08:51<00:00, 16.00it/s]\n"
     ]
    },
    {
     "name": "stdout",
     "output_type": "stream",
     "text": [
      "firstKey= 251\n",
      "project saved at /mnt/hgfs/trace_key_1500/key_251.cwp\n"
     ]
    },
    {
     "name": "stderr",
     "output_type": "stream",
     "text": [
      "Capturing traces key=252: 100%|██████████████████████████████████████████████████████████████████████████████████████████████████████████| 8500/8500 [08:50<00:00, 16.02it/s]\n"
     ]
    },
    {
     "name": "stdout",
     "output_type": "stream",
     "text": [
      "firstKey= 252\n",
      "project saved at /mnt/hgfs/trace_key_1500/key_252.cwp\n"
     ]
    },
    {
     "name": "stderr",
     "output_type": "stream",
     "text": [
      "Capturing traces key=253: 100%|██████████████████████████████████████████████████████████████████████████████████████████████████████████| 8500/8500 [08:50<00:00, 16.01it/s]\n"
     ]
    },
    {
     "name": "stdout",
     "output_type": "stream",
     "text": [
      "firstKey= 253\n",
      "project saved at /mnt/hgfs/trace_key_1500/key_253.cwp\n"
     ]
    },
    {
     "name": "stderr",
     "output_type": "stream",
     "text": [
      "Capturing traces key=254: 100%|██████████████████████████████████████████████████████████████████████████████████████████████████████████| 8500/8500 [08:50<00:00, 16.01it/s]\n"
     ]
    },
    {
     "name": "stdout",
     "output_type": "stream",
     "text": [
      "firstKey= 254\n",
      "project saved at /mnt/hgfs/trace_key_1500/key_254.cwp\n"
     ]
    },
    {
     "name": "stderr",
     "output_type": "stream",
     "text": [
      "Capturing traces key=255: 100%|██████████████████████████████████████████████████████████████████████████████████████████████████████████| 8500/8500 [08:50<00:00, 16.01it/s]\n"
     ]
    },
    {
     "name": "stdout",
     "output_type": "stream",
     "text": [
      "firstKey= 255\n",
      "project saved at /mnt/hgfs/trace_key_1500/key_255.cwp\n"
     ]
    }
   ],
   "source": [
    "#Capture Traces\n",
    "from tqdm import tnrange, trange\n",
    "import numpy as np\n",
    "import random\n",
    "import time\n",
    "\n",
    "\n",
    "ktp = cw.ktp.Basic()\n",
    "ktp.fixed_key= False ##Ramdomizing the keys\n",
    "\n",
    "N = 8500  # Number of traces\n",
    "\n",
    "prjDir = \"/mnt/hgfs/trace_key_1500/\"\n",
    "\n",
    "for firstKey in range(256):\n",
    "    traces = []\n",
    "    prjName = \"key_\" + str(firstKey)\n",
    "    project = cw.create_project(prjDir + prjName + \".cwp\", overwrite=True)\n",
    "    \n",
    "    for i in trange(N, desc='Capturing traces key=' + str(firstKey)):\n",
    "        key, text = ktp.next()  # manual creation of a key, text pair can be substituted here\n",
    "        key[0] = firstKey\n",
    "\n",
    "        trace = cw.capture_trace(scope, target, text, key)\n",
    "        if trace is None:\n",
    "            continue\n",
    "        project.traces.append(trace)\n",
    "\n",
    "    #print(scope.adc.trig_count)\n",
    "    project.save()\n",
    "#     for randomNum in random.sample(range(N), 2):\n",
    "#         print(\"traceNum=%s\\nkey=%s\\ntextIn=%s\\ntextOut=%s\\ntrace=%s\\n\\n\" %(\\\n",
    "#                                                                            randomNum,\\\n",
    "#                                                                            project.traces[randomNum].key,\\\n",
    "#                                                                            project.traces[randomNum].textin,\\\n",
    "#                                                                            project.traces[randomNum].textout,\\\n",
    "#                                                                            project.traces[randomNum].wave)\\\n",
    "#              )\n",
    "    print(\"firstKey= %s\\nproject saved at %s\" %(firstKey, project.get_filename()))\n",
    "    project.close()"
   ]
  },
  {
   "cell_type": "code",
   "execution_count": 42,
   "metadata": {},
   "outputs": [
    {
     "name": "stdout",
     "output_type": "stream",
     "text": [
      "False\n",
      "False\n"
     ]
    }
   ],
   "source": [
    "print(ktp.fixed_text)\n",
    "print(ktp.fixed_key)"
   ]
  },
  {
   "cell_type": "code",
   "execution_count": 17,
   "metadata": {},
   "outputs": [
    {
     "name": "stdout",
     "output_type": "stream",
     "text": [
      "/mnt/hgfs/trace_key_1500\n"
     ]
    },
    {
     "name": "stderr",
     "output_type": "stream",
     "text": [
      "/home/manojgopale/.local/lib/python3.7/site-packages/matplotlib/text.py:1215: FutureWarning: elementwise comparison failed; returning scalar instead, but in the future will perform elementwise comparison\n",
      "  if s != self._text:\n",
      "/home/manojgopale/.local/lib/python3.7/site-packages/matplotlib/text.py:1215: FutureWarning: elementwise comparison failed; returning scalar instead, but in the future will perform elementwise comparison\n",
      "  if s != self._text:\n",
      "/home/manojgopale/.local/lib/python3.7/site-packages/matplotlib/text.py:1215: FutureWarning: elementwise comparison failed; returning scalar instead, but in the future will perform elementwise comparison\n",
      "  if s != self._text:\n",
      "/home/manojgopale/.local/lib/python3.7/site-packages/matplotlib/text.py:1215: FutureWarning: elementwise comparison failed; returning scalar instead, but in the future will perform elementwise comparison\n",
      "  if s != self._text:\n"
     ]
    },
    {
     "data": {
      "text/plain": [
       "Text(0.5, 1.0, '[  0 204 190 239 196  34  63 160  28 166 246  81  39  96 195 183]')"
      ]
     },
     "execution_count": 17,
     "metadata": {},
     "output_type": "execute_result"
    },
    {
     "data": {
      "image/png": "[encoded data removed]",
      "text/plain": [
       "<Figure size 2160x720 with 4 Axes>"
      ]
     },
     "metadata": {
      "needs_background": "light"
     },
     "output_type": "display_data"
    }
   ],
   "source": [
    "print(project.location)\n",
    "##Manoj\n",
    "##Check the traces\n",
    "%matplotlib inline\n",
    "import matplotlib.pyplot as plt\n",
    "import numpy as np\n",
    "\n",
    "project = cw.open_project(\"/mnt/hgfs/trace_key_1500/key_0.cwp\")\n",
    "xShape = project.traces[0].wave.shape[0]\n",
    "x=np.linspace(0,xShape-1, xShape)\n",
    "\n",
    "savePath = \"/home/manojgopale/Documents/chipwhisperer/jupyter/courses/sca201/img/sca201_images/\" + prjName + \".jpg\"\n",
    "\n",
    "fig, axs = plt.subplots(4, sharex=True, figsize=(30,10))\n",
    "axs[0].plot(x,project.traces[0].wave)\n",
    "axs[0].set_title(project.traces[0].key)\n",
    "axs[1].plot(x,project.traces[1].wave)\n",
    "axs[1].set_title(project.traces[1].key)\n",
    "axs[2].plot(x,project.traces[8].wave)\n",
    "axs[2].set_title(project.traces[8].key)\n",
    "axs[3].plot(x,project.traces[9].wave)\n",
    "axs[3].set_title(project.traces[9].key)\n",
    "#print(proj.traces[0].wave.shape)\n",
    "\n",
    "#fig.savefig(savePath)"
   ]
  },
  {
   "cell_type": "code",
   "execution_count": 8,
   "metadata": {},
   "outputs": [
    {
     "data": {
      "image/png": "[encoded data removed]",
      "text/plain": [
       "<Figure size 2160x1080 with 5 Axes>"
      ]
     },
     "metadata": {
      "needs_background": "light"
     },
     "output_type": "display_data"
    }
   ],
   "source": [
    "##Plot error\n",
    "xShape = project.traces[0].wave.shape[0]\n",
    "x=np.linspace(0,xShape-1, xShape)\n",
    "savePath = \"/home/manojgopale/Documents/chipwhisperer/jupyter/courses/sca201/img/sca201_images/\" + prjName + \"_error.jpg\"\n",
    "\n",
    "baseWave = project.traces[9].wave\n",
    "fig, axs = plt.subplots(5, sharex=True, sharey=True, figsize=(30,15))\n",
    "for i in range(5):\n",
    "    targetWave = project.traces[i].wave\n",
    "    axs[i].plot(x, baseWave-targetWave)\n",
    "    axs[i].set_title(project.traces[i].key)\n",
    "    axs[i].set_ylim([-0.05, 0.1])\n",
    "\n",
    "#fig.savefig(savePath)"
   ]
  },
  {
   "cell_type": "code",
   "execution_count": 19,
   "metadata": {},
   "outputs": [
    {
     "name": "stdout",
     "output_type": "stream",
     "text": [
      "100\n",
      "CWbytearray(b'ed 36 66 55 76 6d e6 d7 1a 3f 5d 67 f6 5a 4a 5f')\n",
      "CWbytearray(b'fa dc e4 0c 24 3e 24 ed 78 fd 3d 89 8a 44 28 8f')\n"
     ]
    }
   ],
   "source": [
    "print(len(project.traces))\n",
    "print(project.traces[0].key)\n",
    "print(project.traces[1].key)"
   ]
  },
  {
   "cell_type": "code",
   "execution_count": null,
   "metadata": {},
   "outputs": [],
   "source": [
    "scope.dis()\n",
    "target.dis()"
   ]
  },
  {
   "cell_type": "code",
   "execution_count": 27,
   "metadata": {},
   "outputs": [],
   "source": [
    "##FFT\n",
    "import scipy\n",
    "from scipy.fftpack import fft, fftfreq, rfft, rfftfreq"
   ]
  },
  {
   "cell_type": "code",
   "execution_count": 56,
   "metadata": {},
   "outputs": [
    {
     "name": "stdout",
     "output_type": "stream",
     "text": [
      "Num traces = 8500\n"
     ]
    }
   ],
   "source": [
    "import chipwhisperer as cw\n",
    "prjPath_1 = \"/mnt/hgfs/trace_key_1500/key_100.cwp\"\n",
    "prj_1 = cw.open_project(prjPath_1)\n",
    "print(\"Num traces = %s\" %(len(prj_1.traces)))"
   ]
  },
  {
   "cell_type": "code",
   "execution_count": 57,
   "metadata": {},
   "outputs": [
    {
     "data": {
      "text/plain": [
       "array([100, 120, 159, 189, 229, 109, 244, 157,  90, 107, 248,  94,  63,\n",
       "        92, 210, 219], dtype=uint8)"
      ]
     },
     "execution_count": 57,
     "metadata": {},
     "output_type": "execute_result"
    }
   ],
   "source": [
    "wave = prj_1.traces[0].wave\n",
    "prj_1.traces[1000].key"
   ]
  },
  {
   "cell_type": "code",
   "execution_count": 58,
   "metadata": {},
   "outputs": [
    {
     "name": "stdout",
     "output_type": "stream",
     "text": [
      "(1500,)\n"
     ]
    }
   ],
   "source": [
    "print(wave.shape)"
   ]
  },
  {
   "cell_type": "code",
   "execution_count": 59,
   "metadata": {
    "scrolled": true
   },
   "outputs": [
    {
     "name": "stdout",
     "output_type": "stream",
     "text": [
      "sample_Rate=29538471\n",
      "duration=5.078123373413607e-05\n",
      "total_samples=1500\n",
      "sample_rate=<class 'int'>,\n",
      "duration=<class 'float'>\n",
      "total_samples=<class 'int'>\n"
     ]
    }
   ],
   "source": [
    "scope.adc.decimate = 1\n",
    "sample_rate = int(scope.clock.adc_rate)\n",
    "total_samples = 1500\n",
    "duration = total_samples/sample_rate\n",
    "\n",
    "##total_samples = duration * sample_rate\n",
    "print(\"sample_Rate=%s\\nduration=%s\\ntotal_samples=%s\" %(sample_rate, duration, total_samples))\n",
    "print(\"sample_rate=%s,\\nduration=%s\\ntotal_samples=%s\" %(type(sample_rate), type(duration), type(total_samples)))"
   ]
  },
  {
   "cell_type": "code",
   "execution_count": 60,
   "metadata": {},
   "outputs": [],
   "source": [
    "yf = fft(wave)\n",
    "xf = fftfreq(total_samples, 1/sample_rate)"
   ]
  },
  {
   "cell_type": "code",
   "execution_count": 53,
   "metadata": {},
   "outputs": [
    {
     "data": {
      "text/plain": [
       "array([-32.6171875 -0.j        ,   2.64114464+1.47853316j,\n",
       "         3.4980687 +3.72754178j, ...,   4.15952585-4.47337652j,\n",
       "         3.4980687 -3.72754178j,   2.64114464-1.47853316j])"
      ]
     },
     "execution_count": 53,
     "metadata": {},
     "output_type": "execute_result"
    }
   ],
   "source": [
    "yf"
   ]
  },
  {
   "cell_type": "code",
   "execution_count": 61,
   "metadata": {},
   "outputs": [
    {
     "data": {
      "text/plain": [
       "[<matplotlib.lines.Line2D at 0x7f2f002a3a50>]"
      ]
     },
     "execution_count": 61,
     "metadata": {},
     "output_type": "execute_result"
    },
    {
     "data": {
      "image/png": "[encoded data removed]",
      "text/plain": [
       "<Figure size 432x288 with 1 Axes>"
      ]
     },
     "metadata": {
      "needs_background": "light"
     },
     "output_type": "display_data"
    }
   ],
   "source": [
    "%matplotlib inline\n",
    "import matplotlib.pyplot as plt\n",
    "plt.plot(np.abs(yf))"
   ]
  },
  {
   "cell_type": "code",
   "execution_count": null,
   "metadata": {},
   "outputs": [],
   "source": []
  }
 ],
 "metadata": {
  "kernelspec": {
   "display_name": "Python 3 (ipykernel)",
   "language": "python",
   "name": "python3"
  },
  "language_info": {
   "codemirror_mode": {
    "name": "ipython",
    "version": 3
   },
   "file_extension": ".py",
   "mimetype": "text/x-python",
   "name": "python",
   "nbconvert_exporter": "python",
   "pygments_lexer": "ipython3",
   "version": "3.7.10"
  }
 },
 "nbformat": 4,
 "nbformat_minor": 2
}
